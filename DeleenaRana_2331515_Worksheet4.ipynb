{
  "cells": [
    {
      "cell_type": "markdown",
      "metadata": {
        "id": "oSyGUMm1r17z"
      },
      "source": [
        "# Building a Fully Connected Network (FCN) for Devnagari Digit Classification."
      ]
    },
    {
      "cell_type": "markdown",
      "metadata": {
        "id": "Gkvqn1PwsDp2"
      },
      "source": [
        "## Task 1: Data Preparation\n",
        "**Loading the Data**\n",
        "\n",
        "• Download the provided folder that contains the Devnagari digits dataset.\n",
        "\n",
        "• Use the Python Imaging Library (PIL) to load and read the image files from the dataset.\n",
        "\n",
        "• Convert the images into Numpy arrays and normalize them to a range of 0-1.\n",
        "\n",
        "• use train folder for training and test for testing.\n",
        "\n",
        "• Extract the corresponding labels for each image.\n",
        "\n",
        "Hints:\n",
        "\n",
        "• Ensure that the images are resized to a consistent shape (e.g., 28x28).\n",
        "\n",
        "• Convert labels to one-hot encoded format for multi-class classification."
      ]
    },
    {
      "cell_type": "code",
      "execution_count": null,
      "metadata": {
        "colab": {
          "base_uri": "https://localhost:8080/"
        },
        "id": "vmYtBR1etzHv",
        "outputId": "3a50396f-4547-499e-a025-4853a87c2352"
      },
      "outputs": [
        {
          "name": "stdout",
          "output_type": "stream",
          "text": [
            "Mounted at /content/drive\n"
          ]
        }
      ],
      "source": [
        "from google.colab import drive\n",
        "drive.mount('/content/drive')"
      ]
    },
    {
      "cell_type": "code",
      "execution_count": null,
      "metadata": {
        "colab": {
          "base_uri": "https://localhost:8080/"
        },
        "id": "oShhR4FBoBoG",
        "outputId": "f16195c8-6eaa-4690-8bde-734d33a3e724"
      },
      "outputs": [
        {
          "name": "stdout",
          "output_type": "stream",
          "text": [
            "2.18.0\n"
          ]
        }
      ],
      "source": [
        "import tensorflow as tf\n",
        "print(tf.__version__)"
      ]
    },
    {
      "cell_type": "code",
      "execution_count": null,
      "metadata": {
        "id": "wgSHPxHTtBjT"
      },
      "outputs": [],
      "source": [
        "import os\n",
        "import numpy as np\n",
        "import matplotlib.pyplot as plt\n",
        "from PIL import Image\n",
        "from sklearn.model_selection import train_test_split\n",
        "from tensorflow.keras.utils import to_categorical"
      ]
    },
    {
      "cell_type": "code",
      "execution_count": 33,
      "metadata": {
        "id": "daoT77yRuHV6"
      },
      "outputs": [],
      "source": [
        "test_data = \"/content/drive/MyDrive/6CS012 - Artificial Intelligence and Machine Learning/Week 4/DevanagariHandwrittenDigitDataset/Test\"\n",
        "train_data = \"/content/drive/MyDrive/6CS012 - Artificial Intelligence and Machine Learning/Week 4/DevanagariHandwrittenDigitDataset/Train\""
      ]
    },
    {
      "cell_type": "code",
      "execution_count": 34,
      "metadata": {
        "colab": {
          "base_uri": "https://localhost:8080/"
        },
        "id": "GyxpLlB6t2dX",
        "outputId": "a2d10617-97c9-44f1-85bd-3a0d38b56c58"
      },
      "outputs": [
        {
          "output_type": "stream",
          "name": "stdout",
          "text": [
            "Class Map: {'digit_0': 0, 'digit_1': 1, 'digit_2': 2, 'digit_3': 3, 'digit_4': 4, 'digit_5': 5, 'digit_6': 6, 'digit_7': 7, 'digit_8': 8, 'digit_9': 9}\n",
            "Class Map: {'digit_0': 0, 'digit_1': 1, 'digit_2': 2, 'digit_3': 3, 'digit_4': 4, 'digit_5': 5, 'digit_6': 6, 'digit_7': 7, 'digit_8': 8, 'digit_9': 9}\n",
            "[0 1 2 3 4 5 6 7 8 9]\n",
            "[0 1 2 3 4 5 6 7 8 9]\n"
          ]
        }
      ],
      "source": [
        "def load_images(data_dir, image_size=(28, 28)):\n",
        "    images = []\n",
        "    labels = []\n",
        "    class_names = sorted(os.listdir(data_dir))  # Consistent class labels from folder names\n",
        "    class_map = {name: i for i, name in enumerate(class_names)}\n",
        "\n",
        "    print(\"Class Map:\", class_map)  #Check class map to ensure it's correct\n",
        "\n",
        "    for class_name in class_names:\n",
        "        class_path = os.path.join(data_dir, class_name)\n",
        "        if os.path.isdir(class_path):\n",
        "            for file in os.listdir(class_path):\n",
        "                file_path = os.path.join(class_path, file)\n",
        "                try:\n",
        "                    image = Image.open(file_path).convert('L')  #Convert to grayscale: Since Devnagari digits are in grayscale, converting them reduces unnecessary channels.\n",
        "                    image = image.resize(image_size)\n",
        "                    image_array = np.array(image) / 255.0  # Normalize pixel values\n",
        "                    images.append(image_array)\n",
        "                    labels.append(class_map[class_name])\n",
        "                except Exception as e:\n",
        "                    print(f\"Error loading {file_path}: {e}\")\n",
        "\n",
        "    return np.array(images), np.array(labels)\n",
        "\n",
        "#Load images from train and test directories\n",
        "X_train, y_train = load_images(train_data)\n",
        "X_test, y_test = load_images(test_data)\n",
        "\n",
        "#Check if the labels are within the correct range\n",
        "print(np.unique(y_train))  # Ensure the values are within 0 to 9\n",
        "print(np.unique(y_test))    # Ensure the values are within 0 to 9"
      ]
    },
    {
      "cell_type": "markdown",
      "metadata": {
        "id": "vb7xisa9wpGT"
      },
      "source": [
        "Reshape and One-Hot Encoding Labels"
      ]
    },
    {
      "cell_type": "code",
      "execution_count": 35,
      "metadata": {
        "id": "kvMASiImu9bX"
      },
      "outputs": [],
      "source": [
        "#Reshape images to match the input shape required by FCN\n",
        "X_train = X_train.reshape(-1, 28, 28, 1)\n",
        "X_test = X_test.reshape(-1, 28, 28, 1)\n",
        "\n",
        "#Convert labels to one-hot encoding\n",
        "num_classes = len(np.unique(y_train))  # Adjust num_classes based on the actual number of unique labels\n",
        "y_train = to_categorical(y_train, num_classes=num_classes)\n",
        "y_test = to_categorical(y_test, num_classes=num_classes)"
      ]
    },
    {
      "cell_type": "markdown",
      "metadata": {
        "id": "hbRzx0QqwtC6"
      },
      "source": [
        "Verify Data"
      ]
    },
    {
      "cell_type": "code",
      "execution_count": 36,
      "metadata": {
        "id": "V2Wn6bgtu_1c",
        "colab": {
          "base_uri": "https://localhost:8080/",
          "height": 395
        },
        "outputId": "ab9608b3-c5b7-4d7e-a0c5-65cb1af01175"
      },
      "outputs": [
        {
          "output_type": "stream",
          "name": "stdout",
          "text": [
            "Training Data Shape: (17270, 28, 28, 1), Labels: (17270, 10)\n",
            "Testing Data Shape: (2737, 28, 28, 1), Labels: (2737, 10)\n"
          ]
        },
        {
          "output_type": "display_data",
          "data": {
            "text/plain": [
              "<Figure size 1000x400 with 10 Axes>"
            ],
            "image/png": "[encoded data removed]"
          },
          "metadata": {}
        }
      ],
      "source": [
        "#Verify shapes\n",
        "print(f\"Training Data Shape: {X_train.shape}, Labels: {y_train.shape}\")\n",
        "print(f\"Testing Data Shape: {X_test.shape}, Labels: {y_test.shape}\")\n",
        "\n",
        "#Displaying some images\n",
        "plt.figure(figsize=(10, 4))\n",
        "for i in range(10):\n",
        "    plt.subplot(2, 5, i + 1)\n",
        "    plt.imshow(X_train[i].reshape(28, 28), cmap='gray')\n",
        "    plt.title(f\"Label: {np.argmax(y_train[i])}\")\n",
        "    plt.axis(\"off\")\n",
        "plt.show()"
      ]
    },
    {
      "cell_type": "markdown",
      "metadata": {
        "id": "37ufStQEsRBE"
      },
      "source": [
        "## Task 2: Build the FCN Model\n",
        "\n",
        "**Model Architecture**\n",
        "\n",
        "• Create a Sequential model using Keras.\n",
        "\n",
        "• Add 3 hidden layers with the following number of neurons:\n",
        "\n",
        "– 1st hidden layer: 64 neurons\n",
        "\n",
        "– 2nd hidden layer: 128 neurons\n",
        "\n",
        "– 3rd hidden layer: 256 neurons\n",
        "\n",
        "• Use sigmoid activation functions for all hidden layers.\n",
        "\n",
        "• Add an output layer with 10 units with softmax (since Devnagari digits have 10 classes) and a softmax activation function."
      ]
    },
    {
      "cell_type": "code",
      "execution_count": 37,
      "metadata": {
        "id": "bN1ZF5LawwH2",
        "colab": {
          "base_uri": "https://localhost:8080/",
          "height": 348
        },
        "outputId": "e74bc006-ece1-4c5e-d3d2-d4b848158796"
      },
      "outputs": [
        {
          "output_type": "stream",
          "name": "stderr",
          "text": [
            "/usr/local/lib/python3.11/dist-packages/keras/src/layers/reshaping/flatten.py:37: UserWarning: Do not pass an `input_shape`/`input_dim` argument to a layer. When using Sequential models, prefer using an `Input(shape)` object as the first layer in the model instead.\n",
            "  super().__init__(**kwargs)\n"
          ]
        },
        {
          "output_type": "display_data",
          "data": {
            "text/plain": [
              "\u001b[1mModel: \"sequential\"\u001b[0m\n"
            ],
            "text/html": [
              "<pre style=\"white-space:pre;overflow-x:auto;line-height:normal;font-family:Menlo,'DejaVu Sans Mono',consolas,'Courier New',monospace\"><span style=\"font-weight: bold\">Model: \"sequential\"</span>\n",
              "</pre>\n"
            ]
          },
          "metadata": {}
        },
        {
          "output_type": "display_data",
          "data": {
            "text/plain": [
              "┏━━━━━━━━━━━━━━━━━━━━━━━━━━━━━━━━━━━━━━┳━━━━━━━━━━━━━━━━━━━━━━━━━━━━━┳━━━━━━━━━━━━━━━━━┓\n",
              "┃\u001b[1m \u001b[0m\u001b[1mLayer (type)                        \u001b[0m\u001b[1m \u001b[0m┃\u001b[1m \u001b[0m\u001b[1mOutput Shape               \u001b[0m\u001b[1m \u001b[0m┃\u001b[1m \u001b[0m\u001b[1m        Param #\u001b[0m\u001b[1m \u001b[0m┃\n",
              "┡━━━━━━━━━━━━━━━━━━━━━━━━━━━━━━━━━━━━━━╇━━━━━━━━━━━━━━━━━━━━━━━━━━━━━╇━━━━━━━━━━━━━━━━━┩\n",
              "│ flatten (\u001b[38;5;33mFlatten\u001b[0m)                    │ (\u001b[38;5;45mNone\u001b[0m, \u001b[38;5;34m784\u001b[0m)                 │               \u001b[38;5;34m0\u001b[0m │\n",
              "├──────────────────────────────────────┼─────────────────────────────┼─────────────────┤\n",
              "│ dense (\u001b[38;5;33mDense\u001b[0m)                        │ (\u001b[38;5;45mNone\u001b[0m, \u001b[38;5;34m64\u001b[0m)                  │          \u001b[38;5;34m50,240\u001b[0m │\n",
              "├──────────────────────────────────────┼─────────────────────────────┼─────────────────┤\n",
              "│ dense_1 (\u001b[38;5;33mDense\u001b[0m)                      │ (\u001b[38;5;45mNone\u001b[0m, \u001b[38;5;34m128\u001b[0m)                 │           \u001b[38;5;34m8,320\u001b[0m │\n",
              "├──────────────────────────────────────┼─────────────────────────────┼─────────────────┤\n",
              "│ dense_2 (\u001b[38;5;33mDense\u001b[0m)                      │ (\u001b[38;5;45mNone\u001b[0m, \u001b[38;5;34m256\u001b[0m)                 │          \u001b[38;5;34m33,024\u001b[0m │\n",
              "├──────────────────────────────────────┼─────────────────────────────┼─────────────────┤\n",
              "│ dense_3 (\u001b[38;5;33mDense\u001b[0m)                      │ (\u001b[38;5;45mNone\u001b[0m, \u001b[38;5;34m10\u001b[0m)                  │           \u001b[38;5;34m2,570\u001b[0m │\n",
              "└──────────────────────────────────────┴─────────────────────────────┴─────────────────┘\n"
            ],
            "text/html": [
              "<pre style=\"white-space:pre;overflow-x:auto;line-height:normal;font-family:Menlo,'DejaVu Sans Mono',consolas,'Courier New',monospace\">┏━━━━━━━━━━━━━━━━━━━━━━━━━━━━━━━━━━━━━━┳━━━━━━━━━━━━━━━━━━━━━━━━━━━━━┳━━━━━━━━━━━━━━━━━┓\n",
              "┃<span style=\"font-weight: bold\"> Layer (type)                         </span>┃<span style=\"font-weight: bold\"> Output Shape                </span>┃<span style=\"font-weight: bold\">         Param # </span>┃\n",
              "┡━━━━━━━━━━━━━━━━━━━━━━━━━━━━━━━━━━━━━━╇━━━━━━━━━━━━━━━━━━━━━━━━━━━━━╇━━━━━━━━━━━━━━━━━┩\n",
              "│ flatten (<span style=\"color: #0087ff; text-decoration-color: #0087ff\">Flatten</span>)                    │ (<span style=\"color: #00d7ff; text-decoration-color: #00d7ff\">None</span>, <span style=\"color: #00af00; text-decoration-color: #00af00\">784</span>)                 │               <span style=\"color: #00af00; text-decoration-color: #00af00\">0</span> │\n",
              "├──────────────────────────────────────┼─────────────────────────────┼─────────────────┤\n",
              "│ dense (<span style=\"color: #0087ff; text-decoration-color: #0087ff\">Dense</span>)                        │ (<span style=\"color: #00d7ff; text-decoration-color: #00d7ff\">None</span>, <span style=\"color: #00af00; text-decoration-color: #00af00\">64</span>)                  │          <span style=\"color: #00af00; text-decoration-color: #00af00\">50,240</span> │\n",
              "├──────────────────────────────────────┼─────────────────────────────┼─────────────────┤\n",
              "│ dense_1 (<span style=\"color: #0087ff; text-decoration-color: #0087ff\">Dense</span>)                      │ (<span style=\"color: #00d7ff; text-decoration-color: #00d7ff\">None</span>, <span style=\"color: #00af00; text-decoration-color: #00af00\">128</span>)                 │           <span style=\"color: #00af00; text-decoration-color: #00af00\">8,320</span> │\n",
              "├──────────────────────────────────────┼─────────────────────────────┼─────────────────┤\n",
              "│ dense_2 (<span style=\"color: #0087ff; text-decoration-color: #0087ff\">Dense</span>)                      │ (<span style=\"color: #00d7ff; text-decoration-color: #00d7ff\">None</span>, <span style=\"color: #00af00; text-decoration-color: #00af00\">256</span>)                 │          <span style=\"color: #00af00; text-decoration-color: #00af00\">33,024</span> │\n",
              "├──────────────────────────────────────┼─────────────────────────────┼─────────────────┤\n",
              "│ dense_3 (<span style=\"color: #0087ff; text-decoration-color: #0087ff\">Dense</span>)                      │ (<span style=\"color: #00d7ff; text-decoration-color: #00d7ff\">None</span>, <span style=\"color: #00af00; text-decoration-color: #00af00\">10</span>)                  │           <span style=\"color: #00af00; text-decoration-color: #00af00\">2,570</span> │\n",
              "└──────────────────────────────────────┴─────────────────────────────┴─────────────────┘\n",
              "</pre>\n"
            ]
          },
          "metadata": {}
        },
        {
          "output_type": "display_data",
          "data": {
            "text/plain": [
              "\u001b[1m Total params: \u001b[0m\u001b[38;5;34m94,154\u001b[0m (367.79 KB)\n"
            ],
            "text/html": [
              "<pre style=\"white-space:pre;overflow-x:auto;line-height:normal;font-family:Menlo,'DejaVu Sans Mono',consolas,'Courier New',monospace\"><span style=\"font-weight: bold\"> Total params: </span><span style=\"color: #00af00; text-decoration-color: #00af00\">94,154</span> (367.79 KB)\n",
              "</pre>\n"
            ]
          },
          "metadata": {}
        },
        {
          "output_type": "display_data",
          "data": {
            "text/plain": [
              "\u001b[1m Trainable params: \u001b[0m\u001b[38;5;34m94,154\u001b[0m (367.79 KB)\n"
            ],
            "text/html": [
              "<pre style=\"white-space:pre;overflow-x:auto;line-height:normal;font-family:Menlo,'DejaVu Sans Mono',consolas,'Courier New',monospace\"><span style=\"font-weight: bold\"> Trainable params: </span><span style=\"color: #00af00; text-decoration-color: #00af00\">94,154</span> (367.79 KB)\n",
              "</pre>\n"
            ]
          },
          "metadata": {}
        },
        {
          "output_type": "display_data",
          "data": {
            "text/plain": [
              "\u001b[1m Non-trainable params: \u001b[0m\u001b[38;5;34m0\u001b[0m (0.00 B)\n"
            ],
            "text/html": [
              "<pre style=\"white-space:pre;overflow-x:auto;line-height:normal;font-family:Menlo,'DejaVu Sans Mono',consolas,'Courier New',monospace\"><span style=\"font-weight: bold\"> Non-trainable params: </span><span style=\"color: #00af00; text-decoration-color: #00af00\">0</span> (0.00 B)\n",
              "</pre>\n"
            ]
          },
          "metadata": {}
        }
      ],
      "source": [
        "from tensorflow.keras.models import Sequential\n",
        "from tensorflow.keras.layers import Dense, Flatten\n",
        "\n",
        "#FCN Model\n",
        "model = Sequential([\n",
        "    Flatten(input_shape=(28, 28, 1)),\n",
        "    Dense(64, activation='sigmoid'),  #Hidden Layer 1: 64 neurons, sigmoid activation\n",
        "    Dense(128, activation='sigmoid'),  #Hidden Layer 2: 128 neurons, sigmoid activation\n",
        "    Dense(256, activation='sigmoid'),  #Hidden Layer 3: 256 neurons, sigmoid activation\n",
        "    Dense(10, activation='softmax')  #Output layer: 10 units (for 10 classes), softmax activation\n",
        "])\n",
        "\n",
        "model.summary()"
      ]
    },
    {
      "cell_type": "markdown",
      "metadata": {
        "id": "vTtWD6MvsajC"
      },
      "source": [
        "## Task 3: Compile the Model\n",
        "**Model Compilation**\n",
        "\n",
        "• Choose an appropriate optimizer (e.g., Adam), loss function (e.g., sparse categorical crossentropy), and evaluation metric (e.g., accuracy)."
      ]
    },
    {
      "cell_type": "code",
      "execution_count": 38,
      "metadata": {
        "id": "UT3eid_swy-V"
      },
      "outputs": [],
      "source": [
        "model.compile(optimizer=\"adam\", loss=\"categorical_crossentropy\", metrics=[\"accuracy\"])"
      ]
    },
    {
      "cell_type": "markdown",
      "metadata": {
        "id": "S-9GJDJ3se2S"
      },
      "source": [
        "## Task 4: Train the Model\n",
        "**Model Training**\n",
        "\n",
        "• Use the model.fit() function to train the model. Set the batch size to 128 and the number of epochs to 20.\n",
        "\n",
        "• Use validation split (validation split=0.2) to monitor the model’s performance on validation data.\n",
        "\n",
        "• Optionally, use callbacks such as ModelCheckpoint and EarlyStopping for saving the best model and avoiding overfitting."
      ]
    },
    {
      "cell_type": "code",
      "execution_count": 41,
      "metadata": {
        "id": "eCRAGQitw1b3",
        "colab": {
          "base_uri": "https://localhost:8080/"
        },
        "outputId": "2e071d40-9dc1-48fe-b8ba-289d4258c6ab"
      },
      "outputs": [
        {
          "output_type": "stream",
          "name": "stdout",
          "text": [
            "Epoch 1/30\n",
            "\u001b[1m107/107\u001b[0m \u001b[32m━━━━━━━━━━━━━━━━━━━━\u001b[0m\u001b[37m\u001b[0m \u001b[1m1s\u001b[0m 8ms/step - accuracy: 0.9992 - loss: 0.0085 - val_accuracy: 0.0151 - val_loss: 12.6184\n",
            "Epoch 2/30\n",
            "\u001b[1m107/107\u001b[0m \u001b[32m━━━━━━━━━━━━━━━━━━━━\u001b[0m\u001b[37m\u001b[0m \u001b[1m1s\u001b[0m 6ms/step - accuracy: 0.9995 - loss: 0.0069 - val_accuracy: 0.0151 - val_loss: 12.5672\n",
            "Epoch 3/30\n",
            "\u001b[1m107/107\u001b[0m \u001b[32m━━━━━━━━━━━━━━━━━━━━\u001b[0m\u001b[37m\u001b[0m \u001b[1m1s\u001b[0m 7ms/step - accuracy: 0.9996 - loss: 0.0060 - val_accuracy: 0.0151 - val_loss: 12.6384\n",
            "Epoch 4/30\n",
            "\u001b[1m107/107\u001b[0m \u001b[32m━━━━━━━━━━━━━━━━━━━━\u001b[0m\u001b[37m\u001b[0m \u001b[1m1s\u001b[0m 7ms/step - accuracy: 0.9994 - loss: 0.0053 - val_accuracy: 0.0151 - val_loss: 12.7934\n",
            "Epoch 5/30\n",
            "\u001b[1m107/107\u001b[0m \u001b[32m━━━━━━━━━━━━━━━━━━━━\u001b[0m\u001b[37m\u001b[0m \u001b[1m1s\u001b[0m 6ms/step - accuracy: 0.9997 - loss: 0.0043 - val_accuracy: 0.0151 - val_loss: 12.8658\n",
            "Epoch 6/30\n",
            "\u001b[1m107/107\u001b[0m \u001b[32m━━━━━━━━━━━━━━━━━━━━\u001b[0m\u001b[37m\u001b[0m \u001b[1m1s\u001b[0m 7ms/step - accuracy: 0.9998 - loss: 0.0034 - val_accuracy: 0.0151 - val_loss: 13.0330\n",
            "Epoch 7/30\n",
            "\u001b[1m107/107\u001b[0m \u001b[32m━━━━━━━━━━━━━━━━━━━━\u001b[0m\u001b[37m\u001b[0m \u001b[1m1s\u001b[0m 7ms/step - accuracy: 0.9996 - loss: 0.0037 - val_accuracy: 0.0151 - val_loss: 13.0965\n",
            "Epoch 8/30\n",
            "\u001b[1m107/107\u001b[0m \u001b[32m━━━━━━━━━━━━━━━━━━━━\u001b[0m\u001b[37m\u001b[0m \u001b[1m1s\u001b[0m 7ms/step - accuracy: 1.0000 - loss: 0.0022 - val_accuracy: 0.0151 - val_loss: 12.9741\n",
            "Epoch 9/30\n",
            "\u001b[1m107/107\u001b[0m \u001b[32m━━━━━━━━━━━━━━━━━━━━\u001b[0m\u001b[37m\u001b[0m \u001b[1m1s\u001b[0m 6ms/step - accuracy: 0.9999 - loss: 0.0023 - val_accuracy: 0.0151 - val_loss: 13.2951\n",
            "Epoch 10/30\n",
            "\u001b[1m107/107\u001b[0m \u001b[32m━━━━━━━━━━━━━━━━━━━━\u001b[0m\u001b[37m\u001b[0m \u001b[1m1s\u001b[0m 7ms/step - accuracy: 0.9999 - loss: 0.0019 - val_accuracy: 0.0151 - val_loss: 13.3782\n",
            "Epoch 11/30\n",
            "\u001b[1m107/107\u001b[0m \u001b[32m━━━━━━━━━━━━━━━━━━━━\u001b[0m\u001b[37m\u001b[0m \u001b[1m1s\u001b[0m 7ms/step - accuracy: 1.0000 - loss: 0.0018 - val_accuracy: 0.0151 - val_loss: 13.4993\n",
            "Epoch 12/30\n",
            "\u001b[1m107/107\u001b[0m \u001b[32m━━━━━━━━━━━━━━━━━━━━\u001b[0m\u001b[37m\u001b[0m \u001b[1m1s\u001b[0m 10ms/step - accuracy: 0.9999 - loss: 0.0016 - val_accuracy: 0.0151 - val_loss: 13.5874\n",
            "Epoch 13/30\n",
            "\u001b[1m107/107\u001b[0m \u001b[32m━━━━━━━━━━━━━━━━━━━━\u001b[0m\u001b[37m\u001b[0m \u001b[1m1s\u001b[0m 10ms/step - accuracy: 0.9999 - loss: 0.0015 - val_accuracy: 0.0151 - val_loss: 13.7182\n",
            "Epoch 14/30\n",
            "\u001b[1m107/107\u001b[0m \u001b[32m━━━━━━━━━━━━━━━━━━━━\u001b[0m\u001b[37m\u001b[0m \u001b[1m1s\u001b[0m 12ms/step - accuracy: 0.9999 - loss: 0.0014 - val_accuracy: 0.0151 - val_loss: 13.7512\n",
            "Epoch 15/30\n",
            "\u001b[1m107/107\u001b[0m \u001b[32m━━━━━━━━━━━━━━━━━━━━\u001b[0m\u001b[37m\u001b[0m \u001b[1m2s\u001b[0m 7ms/step - accuracy: 1.0000 - loss: 0.0012 - val_accuracy: 0.0151 - val_loss: 14.0190\n",
            "Epoch 16/30\n",
            "\u001b[1m107/107\u001b[0m \u001b[32m━━━━━━━━━━━━━━━━━━━━\u001b[0m\u001b[37m\u001b[0m \u001b[1m1s\u001b[0m 7ms/step - accuracy: 0.9999 - loss: 0.0012 - val_accuracy: 0.0151 - val_loss: 13.9455\n",
            "Epoch 17/30\n",
            "\u001b[1m107/107\u001b[0m \u001b[32m━━━━━━━━━━━━━━━━━━━━\u001b[0m\u001b[37m\u001b[0m \u001b[1m1s\u001b[0m 7ms/step - accuracy: 1.0000 - loss: 9.2738e-04 - val_accuracy: 0.0151 - val_loss: 13.9956\n",
            "Epoch 18/30\n",
            "\u001b[1m107/107\u001b[0m \u001b[32m━━━━━━━━━━━━━━━━━━━━\u001b[0m\u001b[37m\u001b[0m \u001b[1m1s\u001b[0m 7ms/step - accuracy: 1.0000 - loss: 7.4671e-04 - val_accuracy: 0.0151 - val_loss: 14.0800\n",
            "Epoch 19/30\n",
            "\u001b[1m107/107\u001b[0m \u001b[32m━━━━━━━━━━━━━━━━━━━━\u001b[0m\u001b[37m\u001b[0m \u001b[1m1s\u001b[0m 6ms/step - accuracy: 0.9999 - loss: 8.4727e-04 - val_accuracy: 0.0151 - val_loss: 14.2211\n",
            "Epoch 20/30\n",
            "\u001b[1m107/107\u001b[0m \u001b[32m━━━━━━━━━━━━━━━━━━━━\u001b[0m\u001b[37m\u001b[0m \u001b[1m1s\u001b[0m 6ms/step - accuracy: 0.9999 - loss: 7.6550e-04 - val_accuracy: 0.0151 - val_loss: 14.2062\n",
            "Epoch 21/30\n",
            "\u001b[1m107/107\u001b[0m \u001b[32m━━━━━━━━━━━━━━━━━━━━\u001b[0m\u001b[37m\u001b[0m \u001b[1m1s\u001b[0m 6ms/step - accuracy: 1.0000 - loss: 6.6112e-04 - val_accuracy: 0.0151 - val_loss: 14.2778\n",
            "Epoch 22/30\n",
            "\u001b[1m107/107\u001b[0m \u001b[32m━━━━━━━━━━━━━━━━━━━━\u001b[0m\u001b[37m\u001b[0m \u001b[1m1s\u001b[0m 7ms/step - accuracy: 1.0000 - loss: 5.2100e-04 - val_accuracy: 0.0151 - val_loss: 14.1147\n",
            "Epoch 23/30\n",
            "\u001b[1m107/107\u001b[0m \u001b[32m━━━━━━━━━━━━━━━━━━━━\u001b[0m\u001b[37m\u001b[0m \u001b[1m1s\u001b[0m 6ms/step - accuracy: 1.0000 - loss: 6.0748e-04 - val_accuracy: 0.0151 - val_loss: 14.5655\n",
            "Epoch 24/30\n",
            "\u001b[1m107/107\u001b[0m \u001b[32m━━━━━━━━━━━━━━━━━━━━\u001b[0m\u001b[37m\u001b[0m \u001b[1m1s\u001b[0m 7ms/step - accuracy: 1.0000 - loss: 4.2048e-04 - val_accuracy: 0.0151 - val_loss: 14.4004\n",
            "Epoch 25/30\n",
            "\u001b[1m107/107\u001b[0m \u001b[32m━━━━━━━━━━━━━━━━━━━━\u001b[0m\u001b[37m\u001b[0m \u001b[1m1s\u001b[0m 11ms/step - accuracy: 1.0000 - loss: 3.9457e-04 - val_accuracy: 0.0151 - val_loss: 14.5762\n",
            "Epoch 26/30\n",
            "\u001b[1m107/107\u001b[0m \u001b[32m━━━━━━━━━━━━━━━━━━━━\u001b[0m\u001b[37m\u001b[0m \u001b[1m1s\u001b[0m 10ms/step - accuracy: 1.0000 - loss: 4.4318e-04 - val_accuracy: 0.0151 - val_loss: 14.6484\n",
            "Epoch 27/30\n",
            "\u001b[1m107/107\u001b[0m \u001b[32m━━━━━━━━━━━━━━━━━━━━\u001b[0m\u001b[37m\u001b[0m \u001b[1m1s\u001b[0m 12ms/step - accuracy: 1.0000 - loss: 5.0390e-04 - val_accuracy: 0.0151 - val_loss: 14.5291\n",
            "Epoch 28/30\n",
            "\u001b[1m107/107\u001b[0m \u001b[32m━━━━━━━━━━━━━━━━━━━━\u001b[0m\u001b[37m\u001b[0m \u001b[1m2s\u001b[0m 6ms/step - accuracy: 0.9982 - loss: 0.0062 - val_accuracy: 0.0151 - val_loss: 14.8862\n",
            "Epoch 29/30\n",
            "\u001b[1m107/107\u001b[0m \u001b[32m━━━━━━━━━━━━━━━━━━━━\u001b[0m\u001b[37m\u001b[0m \u001b[1m1s\u001b[0m 6ms/step - accuracy: 0.9906 - loss: 0.0278 - val_accuracy: 0.0151 - val_loss: 14.6050\n",
            "Epoch 30/30\n",
            "\u001b[1m107/107\u001b[0m \u001b[32m━━━━━━━━━━━━━━━━━━━━\u001b[0m\u001b[37m\u001b[0m \u001b[1m1s\u001b[0m 6ms/step - accuracy: 0.9997 - loss: 0.0017 - val_accuracy: 0.0151 - val_loss: 14.9528\n"
          ]
        }
      ],
      "source": [
        "batch_size = 130\n",
        "epochs = 30\n",
        "\n",
        "history = model.fit(X_train, y_train, batch_size=batch_size, epochs=epochs, validation_split=0.2)"
      ]
    },
    {
      "cell_type": "markdown",
      "metadata": {
        "id": "ifv9wxPysl-M"
      },
      "source": [
        "## Task 5: Evaluate the Model\n",
        "**Model Evaluation**\n",
        "\n",
        "• After training, evaluate the model using model.evaluate() on the test set to check the test accuracy and loss."
      ]
    },
    {
      "cell_type": "code",
      "execution_count": 42,
      "metadata": {
        "id": "jRjmWS6fw4ZR",
        "colab": {
          "base_uri": "https://localhost:8080/"
        },
        "outputId": "8ee59efe-098c-416e-de4c-50e119c5f7cc"
      },
      "outputs": [
        {
          "output_type": "stream",
          "name": "stdout",
          "text": [
            "86/86 - 0s - 2ms/step - accuracy: 0.8604 - loss: 1.8686\n",
            "Test accuracy: 0.8604\n"
          ]
        }
      ],
      "source": [
        "test_loss, test_acc = model.evaluate(X_test, y_test, verbose=2)\n",
        "print(f\"Test accuracy: {test_acc:.4f}\")"
      ]
    },
    {
      "cell_type": "markdown",
      "metadata": {
        "id": "jQ4-LqqzsxUw"
      },
      "source": [
        "## Task 6: Save and Load the Model\n",
        "**Model Saving and Loading**\n",
        "\n",
        "• Save the trained model to an .h5 file using model.save().\n",
        "\n",
        "• Load the saved model and re-evaluate its performance on the test set."
      ]
    },
    {
      "cell_type": "code",
      "execution_count": 49,
      "metadata": {
        "id": "yxDp3wrQw5rj",
        "colab": {
          "base_uri": "https://localhost:8080/"
        },
        "outputId": "52bd5370-5866-48c7-8498-7109456dccd6"
      },
      "outputs": [
        {
          "output_type": "stream",
          "name": "stderr",
          "text": [
            "WARNING:absl:You are saving your model as an HDF5 file via `model.save()` or `keras.saving.save_model(model)`. This file format is considered legacy. We recommend using instead the native Keras format, e.g. `model.save('my_model.keras')` or `keras.saving.save_model(model, 'my_model.keras')`. \n",
            "WARNING:absl:Compiled the loaded model, but the compiled metrics have yet to be built. `model.compile_metrics` will be empty until you train or evaluate the model.\n"
          ]
        },
        {
          "output_type": "stream",
          "name": "stdout",
          "text": [
            "\u001b[1m86/86\u001b[0m \u001b[32m━━━━━━━━━━━━━━━━━━━━\u001b[0m\u001b[37m\u001b[0m \u001b[1m1s\u001b[0m 2ms/step - accuracy: 0.9761 - loss: 0.2283\n"
          ]
        },
        {
          "output_type": "execute_result",
          "data": {
            "text/plain": [
              "[1.868554711341858, 0.8604311347007751]"
            ]
          },
          "metadata": {},
          "execution_count": 49
        }
      ],
      "source": [
        "model.save('/content/drive/MyDrive/6CS012 - Artificial Intelligence and Machine Learning/Week 4/devnagari_fcn.h5')\n",
        "\n",
        "loaded_model = tf.keras.models.load_model('devnagari_fcn.h5')\n",
        "loaded_model.evaluate(X_test, y_test)"
      ]
    },
    {
      "cell_type": "markdown",
      "metadata": {
        "id": "s2p6JEGMs1vo"
      },
      "source": [
        "## Task 7: Predictions\n",
        "**Making Predictions**\n",
        "\n",
        "• Use model.predict() to make predictions on test images.\n",
        "\n",
        "• Convert the model’s predicted probabilities to digit labels using np.argmax()."
      ]
    },
    {
      "cell_type": "code",
      "execution_count": 50,
      "metadata": {
        "id": "mKwlMcjpw9oI",
        "colab": {
          "base_uri": "https://localhost:8080/"
        },
        "outputId": "1e1735a0-bfe0-452f-a053-508ad5e265c6"
      },
      "outputs": [
        {
          "output_type": "stream",
          "name": "stdout",
          "text": [
            "\u001b[1m86/86\u001b[0m \u001b[32m━━━━━━━━━━━━━━━━━━━━\u001b[0m\u001b[37m\u001b[0m \u001b[1m0s\u001b[0m 2ms/step\n",
            "Predicted: 0, Actual: 0\n",
            "Predicted: 0, Actual: 0\n",
            "Predicted: 0, Actual: 0\n",
            "Predicted: 0, Actual: 0\n",
            "Predicted: 0, Actual: 0\n",
            "Predicted: 0, Actual: 0\n",
            "Predicted: 0, Actual: 0\n",
            "Predicted: 0, Actual: 0\n",
            "Predicted: 0, Actual: 0\n",
            "Predicted: 0, Actual: 0\n",
            "Predicted: 0, Actual: 0\n",
            "Predicted: 0, Actual: 0\n",
            "Predicted: 0, Actual: 0\n",
            "Predicted: 0, Actual: 0\n",
            "Predicted: 0, Actual: 0\n",
            "Predicted: 0, Actual: 0\n",
            "Predicted: 0, Actual: 0\n",
            "Predicted: 0, Actual: 0\n",
            "Predicted: 0, Actual: 0\n",
            "Predicted: 0, Actual: 0\n"
          ]
        }
      ],
      "source": [
        "predictions = model.predict(X_test)\n",
        "predicted_labels = np.argmax(predictions, axis=1)\n",
        "\n",
        "#displaying first 20 predictions\n",
        "for i in range(20):\n",
        "    print(f\"Predicted: {predicted_labels[i]}, Actual: {np.argmax(y_test[i])}\")"
      ]
    },
    {
      "cell_type": "code",
      "execution_count": 51,
      "metadata": {
        "id": "YMsKb-Dqw_Y9",
        "colab": {
          "base_uri": "https://localhost:8080/",
          "height": 504
        },
        "outputId": "836328df-8eae-4aee-f125-11bb03229205"
      },
      "outputs": [
        {
          "output_type": "execute_result",
          "data": {
            "text/plain": [
              "<matplotlib.legend.Legend at 0x7ff240d36390>"
            ]
          },
          "metadata": {},
          "execution_count": 51
        },
        {
          "output_type": "display_data",
          "data": {
            "text/plain": [
              "<Figure size 1200x500 with 1 Axes>"
            ],
            "image/png": "[encoded data removed]"
          },
          "metadata": {}
        }
      ],
      "source": [
        "plt.figure(figsize=(12, 5))\n",
        "\n",
        "plt.subplot(1, 2, 1)\n",
        "plt.plot(history.history['loss'], label='Training Loss')\n",
        "plt.plot(history.history['val_loss'], label='Validation Loss')\n",
        "plt.xlabel(\"Epochs\")\n",
        "plt.ylabel(\"Loss\")\n",
        "plt.title(\"Training vs Validation Loss\")\n",
        "plt.legend()"
      ]
    }
  ],
  "metadata": {
    "colab": {
      "provenance": []
    },
    "kernelspec": {
      "display_name": "Python 3",
      "name": "python3"
    },
    "language_info": {
      "name": "python"
    }
  },
  "nbformat": 4,
  "nbformat_minor": 0
}