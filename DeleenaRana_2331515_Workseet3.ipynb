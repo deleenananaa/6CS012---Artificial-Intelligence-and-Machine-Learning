{
  "nbformat": 4,
  "nbformat_minor": 0,
  "metadata": {
    "colab": {
      "provenance": [],
      "collapsed_sections": [
        "IY-_Zy_b71lD",
        "mXb5OZvokHRT"
      ]
    },
    "kernelspec": {
      "name": "python3",
      "display_name": "Python 3"
    },
    "language_info": {
      "name": "python"
    }
  },
  "cells": [
    {
      "cell_type": "markdown",
      "source": [
        "# Task - 1: Implementation of MCP Neurons for AND and OR Function."
      ],
      "metadata": {
        "id": "IY-_Zy_b71lD"
      }
    },
    {
      "cell_type": "code",
      "source": [
        "def MCP_Neurons_AND(X1, X2, T):\n",
        "  \"\"\"\n",
        "  This functions implements basic AND operations with MCP Neuron for two inputs.\n",
        "  Arguments:\n",
        "  Inputs:\n",
        "  X1 (1 nd array): An array of binary values.\n",
        "  X2 (1 nd array): An array of binary values.\n",
        "  Output:\n",
        "  state_neuron(1D-list): An state of neuron 1 0r 0 for the particular inputs.\n",
        "  \"\"\"\n",
        "  assert len(X1) == len(X2), \"Input lists must have the same length.\"\n",
        "\n",
        "  # Perform an element wise addition of two input arrays stored in a new array(list):\n",
        "  # Create a new array to put all the prediction let's name that a state_neuron.\n",
        "  # Append 1 in sate_neuron if sum (element) of above list is above Threshold else append 0.\n",
        "\n",
        "  state_neuron = []  # Initialize an empty list to store outputs\n",
        "\n",
        "  for x1, x2 in zip(X1, X2):\n",
        "    sum_inputs = x1 + x2  # Sum the inputs\n",
        "    if sum_inputs >= T:\n",
        "      state_neuron.append(1)\n",
        "    else:\n",
        "      state_neuron.append(0)\n",
        "\n",
        "  return state_neuron"
      ],
      "metadata": {
        "id": "Fu-YDOe_8GJi"
      },
      "execution_count": 25,
      "outputs": []
    },
    {
      "cell_type": "code",
      "source": [
        "# Example usage for MCP_Neurons_AND function\n",
        "X1 = [0, 0, 1, 1]\n",
        "X2 = [0, 1, 0, 1]\n",
        "T = 2  # Threshold value\n",
        "\n",
        "# Call the MCP_Neurons_AND function\n",
        "result = MCP_Neurons_AND(X1, X2, T)\n",
        "\n",
        "# Print the result\n",
        "print(f\"Output of AND gate for inputs {X1} and {X2} with threshold {T}: {result}\")"
      ],
      "metadata": {
        "colab": {
          "base_uri": "https://localhost:8080/"
        },
        "id": "e2-lKfat8ocN",
        "outputId": "0e3171e2-f51c-4ff8-8b1e-8951528a1087"
      },
      "execution_count": 26,
      "outputs": [
        {
          "output_type": "stream",
          "name": "stdout",
          "text": [
            "Output of AND gate for inputs [0, 0, 1, 1] and [0, 1, 0, 1] with threshold 2: [0, 0, 0, 1]\n"
          ]
        }
      ]
    },
    {
      "cell_type": "code",
      "source": [
        "def MCP_Neurons_OR(X1, X2, T):\n",
        "    \"\"\"\n",
        "    This function implements basic OR operations with MCP Neuron for two inputs.\n",
        "    Arguments:\n",
        "    Inputs:\n",
        "    X1 (1D array): An array of binary values.\n",
        "    X2 (1D array): An array of binary values.\n",
        "    Output:\n",
        "    state_neuron (1D list): The state of the neuron (1 or 0) for the particular inputs.\n",
        "    \"\"\"\n",
        "    assert len(X1) == len(X2), \"Input lists must have the same length.\"\n",
        "\n",
        "    state_neuron = []  # Initialize an empty list to store outputs\n",
        "\n",
        "    # Perform an element wise addition of two input arrays stored in a new array(list):\n",
        "    # Create a new array to put all the prediction let's name that a state_neuron.\n",
        "    # Append 1 in sate_neuron if sum (element) of above list is above Threshold else append 0.\n",
        "\n",
        "    for x1, x2 in zip(X1, X2):\n",
        "        sum_inputs = x1 + x2  # Sum the inputs\n",
        "        if sum_inputs >= T:\n",
        "            state_neuron.append(1)\n",
        "        else:\n",
        "            state_neuron.append(0)\n",
        "\n",
        "    return state_neuron"
      ],
      "metadata": {
        "id": "7xaMXlLT9FHC"
      },
      "execution_count": 27,
      "outputs": []
    },
    {
      "cell_type": "code",
      "source": [
        "# Example usage for MCP_Neurons_OR function\n",
        "X1 = [0, 0, 1, 1]\n",
        "X2 = [0, 1, 0, 1]\n",
        "T = 1  # Threshold value for OR gate\n",
        "\n",
        "# Call the MCP_Neurons_OR function\n",
        "result_or = MCP_Neurons_OR(X1, X2, T)\n",
        "\n",
        "# Print the result\n",
        "print(f\"Output of OR gate for inputs {X1} and {X2} with threshold {T}: {result_or}\")"
      ],
      "metadata": {
        "colab": {
          "base_uri": "https://localhost:8080/"
        },
        "id": "6H-YOy268_Jo",
        "outputId": "eb85a20c-36d9-4f4b-efd6-e90ed0172898"
      },
      "execution_count": 28,
      "outputs": [
        {
          "output_type": "stream",
          "name": "stdout",
          "text": [
            "Output of OR gate for inputs [0, 0, 1, 1] and [0, 1, 0, 1] with threshold 1: [0, 1, 1, 1]\n"
          ]
        }
      ]
    },
    {
      "cell_type": "markdown",
      "source": [
        "# Answer the Following Question:"
      ],
      "metadata": {
        "id": "mXb5OZvokHRT"
      }
    },
    {
      "cell_type": "markdown",
      "source": [
        "## **Question - 1:** What does the shape of X represent?"
      ],
      "metadata": {
        "id": "5GCrirP4kKm1"
      }
    },
    {
      "cell_type": "markdown",
      "source": [
        "The shape of X represents (n_samples, n_features) which outputs to (12665, 784). This means that there are 12665 images in the dataset and Each image is has a pixel value of 784."
      ],
      "metadata": {
        "id": "C5ikYaohkO9f"
      }
    },
    {
      "cell_type": "markdown",
      "source": [
        "## **Question - 2:** What does the shape of Y represent?"
      ],
      "metadata": {
        "id": "AKRswtiokPVN"
      }
    },
    {
      "cell_type": "markdown",
      "source": [
        "The shape of Y represents (n_samples,) which is the number of labels (rows) in the dataset (corresponds to the number of images in X)."
      ],
      "metadata": {
        "id": "iWjj6GZgkXts"
      }
    },
    {
      "cell_type": "markdown",
      "source": [
        "# Task 2: Perceptron Algorithm for 0 vs 1 Classification."
      ],
      "metadata": {
        "id": "Apa9bfLIFJHe"
      }
    },
    {
      "cell_type": "markdown",
      "source": [
        "## Step 1: Load the Dataset"
      ],
      "metadata": {
        "id": "iom83mGLFP_1"
      }
    },
    {
      "cell_type": "code",
      "source": [
        "from google.colab import drive\n",
        "drive.mount('/content/drive')"
      ],
      "metadata": {
        "colab": {
          "base_uri": "https://localhost:8080/"
        },
        "id": "szKw2sbiGSTz",
        "outputId": "fcf69be2-bb52-471a-ace0-4135a3c7bd36"
      },
      "execution_count": 29,
      "outputs": [
        {
          "output_type": "stream",
          "name": "stdout",
          "text": [
            "Drive already mounted at /content/drive; to attempt to forcibly remount, call drive.mount(\"/content/drive\", force_remount=True).\n"
          ]
        }
      ]
    },
    {
      "cell_type": "code",
      "source": [
        "import pandas as pd\n",
        "import numpy as np\n",
        "import matplotlib.pyplot as plt\n",
        "\n",
        "# Load the dataset\n",
        "df_0_1 = pd.read_csv(\"/content/drive/MyDrive/6CS012 - Artificial Intelligence and Machine Learning/Week 3/Copy of mnist_0_and_1.csv\")  # Add the correct file path if necessary\n",
        "\n",
        "# Extract features and labels\n",
        "X = df_0_1.drop(columns=[\"label\"]).values  # 784 pixels\n",
        "y = df_0_1[\"label\"].values  # Labels (0 or 1)\n",
        "\n",
        "# Check the shape of the features and labels\n",
        "print(\"Feature matrix shape:\", X.shape)\n",
        "print(\"Label vector shape:\", y.shape)"
      ],
      "metadata": {
        "colab": {
          "base_uri": "https://localhost:8080/"
        },
        "id": "7rkW58ct9IYq",
        "outputId": "63ee8bd4-64c5-401b-bbdd-e3ec1c1f1701"
      },
      "execution_count": 30,
      "outputs": [
        {
          "output_type": "stream",
          "name": "stdout",
          "text": [
            "Feature matrix shape: (12665, 784)\n",
            "Label vector shape: (12665,)\n"
          ]
        }
      ]
    },
    {
      "cell_type": "markdown",
      "source": [
        "### Viewing the Dataset."
      ],
      "metadata": {
        "id": "jlq0EY2jHheD"
      }
    },
    {
      "cell_type": "code",
      "source": [
        "# Separate images for label 0 and label 1\n",
        "images_0 = X[y == 0]  # Get all images with label 0\n",
        "images_1 = X[y == 1]  # Get all images with label 1\n",
        "\n",
        "fig, axes = plt.subplots(2, 5, figsize=(10, 5))\n",
        "\n",
        "# Check if the arrays have the required amount of data\n",
        "if len(images_0) < 5 or len(images_1) < 5:\n",
        "    print(\"Error: Not enough images in images_0 or images_1 to plot 5 images.\")\n",
        "else:\n",
        "    for i in range(5):\n",
        "        # Plot digit 0\n",
        "        axes[0, i].imshow(images_0[i].reshape(28, 28), cmap=\"gray\")\n",
        "        axes[0, i].set_title(\"Label: 0\")\n",
        "        axes[0, i].axis(\"off\")\n",
        "        # Plot digit 1\n",
        "        axes[1, i].imshow(images_1[i].reshape(28, 28), cmap=\"gray\")\n",
        "        axes[1, i].set_title(\"Label: 1\")\n",
        "        axes[1, i].axis(\"off\")\n",
        "    plt.suptitle(\"First 5 Images of 0 and 1 from MNIST Subset\")\n",
        "    plt.show()"
      ],
      "metadata": {
        "colab": {
          "base_uri": "https://localhost:8080/",
          "height": 451
        },
        "id": "XKY2qjhCHAZ7",
        "outputId": "6e84eb9b-7e8b-4fe2-a5bf-61789ee13152"
      },
      "execution_count": 31,
      "outputs": [
        {
          "output_type": "display_data",
          "data": {
            "text/plain": [
              "<Figure size 1000x500 with 10 Axes>"
            ],
            "image/png": "[encoded data removed]"
          },
          "metadata": {}
        }
      ]
    },
    {
      "cell_type": "markdown",
      "source": [
        "## Step - 2 - Initializing the Weights:"
      ],
      "metadata": {
        "id": "qyM34tbHIqGi"
      }
    },
    {
      "cell_type": "code",
      "source": [
        "# Initialize weights and bias\n",
        "weights = np.zeros(X.shape[1])  # 784 weights (one for each pixel)\n",
        "bias = 0\n",
        "learning_rate = 0.1\n",
        "epochs = 100"
      ],
      "metadata": {
        "id": "SMsXaZ38HfBI"
      },
      "execution_count": 32,
      "outputs": []
    },
    {
      "cell_type": "markdown",
      "source": [
        "##**Question - 3:** What does the weights array represent in this context?"
      ],
      "metadata": {
        "id": "HyOMP5xxky81"
      }
    },
    {
      "cell_type": "markdown",
      "source": [
        "The weights array in this context, represents the importance of each pixel in the image for making predictions. Each weight corresponds to one of the 784 pixels."
      ],
      "metadata": {
        "id": "2Eaz8Lyyk15R"
      }
    },
    {
      "cell_type": "markdown",
      "source": [
        "## **Question - 4:** Why are we initializing the weights to zero? What effect could this have on the training process?"
      ],
      "metadata": {
        "id": "hknSAacNk2Ws"
      }
    },
    {
      "cell_type": "markdown",
      "source": [
        "Initializing weights to zero ensures a fair starting point for training, avoiding bias toward any pixel.\n",
        "\n",
        "Weights to zero can lead to slower convergence during training, as all weights start equally and may require more updates to differentiate their importance.\n"
      ],
      "metadata": {
        "id": "n0Xh-ghKk_J9"
      }
    },
    {
      "cell_type": "markdown",
      "source": [
        "## Step - 3 - Make a Decision function:"
      ],
      "metadata": {
        "id": "EvraDxaeRVeo"
      }
    },
    {
      "cell_type": "code",
      "source": [
        "import numpy as np\n",
        "\n",
        "def decision_function(X, weights, bias):\n",
        "    \"\"\"\n",
        "    Compute the predicted labels for the input data.\n",
        "\n",
        "    Parameters:\n",
        "    - X: Features (input data) as a numpy array of shape (n_samples, n_features)\n",
        "    - weights: Updated weights after training\n",
        "    - bias: Updated bias after training\n",
        "\n",
        "    Returns:\n",
        "    - y_pred_all: The predicted labels for the input data\n",
        "    \"\"\"\n",
        "    predictions = np.dot(X, weights) + bias  # Linear combination of inputs and weights\n",
        "    y_pred_all = np.where(predictions >= 0, 1, 0)  # Activation function (step function)\n",
        "    return y_pred_all"
      ],
      "metadata": {
        "id": "6uVj75txLWQi"
      },
      "execution_count": 33,
      "outputs": []
    },
    {
      "cell_type": "markdown",
      "source": [
        "## Step - 3 - Implement the Perceptron Learning Algorithm"
      ],
      "metadata": {
        "id": "AVZNGyRdI4I4"
      }
    },
    {
      "cell_type": "code",
      "source": [
        "def train_perceptron(X, y, weights, bias, learning_rate=0.1, epochs=100):\n",
        "    \"\"\"\n",
        "    Train the perceptron using the Perceptron Learning Algorithm.\n",
        "\n",
        "    Parameters:\n",
        "    - X: Features (input data) as a numpy array of shape (n_samples, n_features)\n",
        "    - y: Labels (true output) as a numpy array of shape (n_samples,)\n",
        "    - weights: Initial weights as a numpy array of shape (n_features,)\n",
        "    - bias: Initial bias value (scalar)\n",
        "    - learning_rate: Learning rate for weight updates (default is 0.1)\n",
        "    - epochs: Number of iterations to train the model (default is 100)\n",
        "\n",
        "    Returns:\n",
        "    - weights: Updated weights after training\n",
        "    - bias: Updated bias after training\n",
        "    - accuracy: Total correct prediction.\n",
        "    \"\"\"\n",
        "    # Step 3: Perceptron Learning Algorithm\n",
        "    for epoch in range(epochs):\n",
        "        correct_predictions = 0  # Track the number of correct classifications\n",
        "\n",
        "        for i in range(len(X)):\n",
        "            # Compute the prediction using the decision function\n",
        "            y_pred = np.dot(X[i], weights) + bias\n",
        "            y_pred = 1 if y_pred >= 0 else 0  # Apply step function\n",
        "\n",
        "            # Update weights and bias if prediction is incorrect\n",
        "            if y_pred != y[i]:\n",
        "                error = y[i] - y_pred  # Compute the error\n",
        "                weights += learning_rate * error * X[i]  # Update weights\n",
        "                bias += learning_rate * error  # Update bias\n",
        "            else:\n",
        "                correct_predictions += 1  # Count correct predictions\n",
        "\n",
        "        # Calculate accuracy in the last epoch\n",
        "        if epoch == epochs - 1:\n",
        "            accuracy = correct_predictions / len(X)\n",
        "\n",
        "    return weights, bias, accuracy"
      ],
      "metadata": {
        "id": "Dg1ocrycJWpA"
      },
      "execution_count": 34,
      "outputs": []
    },
    {
      "cell_type": "markdown",
      "source": [
        "## Training the Perceptron"
      ],
      "metadata": {
        "id": "Va6AGI6iMAG9"
      }
    },
    {
      "cell_type": "code",
      "source": [
        "# After training the model with the perceptron_learning_algorithm\n",
        "weights, bias, accuracy = train_perceptron(X, y, weights, bias)\n",
        "\n",
        "# Evaluate the model using the new function\n",
        "print(\"The Final Accuracy is: \", accuracy)"
      ],
      "metadata": {
        "colab": {
          "base_uri": "https://localhost:8080/"
        },
        "id": "cn8XBYuZLswI",
        "outputId": "7a96948b-5b0f-459c-daf6-6f01338567f5"
      },
      "execution_count": 35,
      "outputs": [
        {
          "output_type": "stream",
          "name": "stdout",
          "text": [
            "The Final Accuracy is:  1.0\n"
          ]
        }
      ]
    },
    {
      "cell_type": "markdown",
      "source": [
        "## **Question - 5:** What is the purpose of the output = np.dot(X[i], weights) + bias line?"
      ],
      "metadata": {
        "id": "rUDFTCwxlG5A"
      }
    },
    {
      "cell_type": "markdown",
      "source": [
        "The purpose of the output = np.dot(X[i], weights) + bias is:\n",
        "\n",
        "It computes the weighted sum of inputs and bias to make a prediction using the step function."
      ],
      "metadata": {
        "id": "-N9YmkmKlKmN"
      }
    },
    {
      "cell_type": "markdown",
      "source": [
        "## **Question - 6:** What happens when the prediction is wrong? How are the weights and bias updated?"
      ],
      "metadata": {
        "id": "KvgzUUfclLO-"
      }
    },
    {
      "cell_type": "markdown",
      "source": [
        "When the prediction is wrong in a perceptron, the model updates its weights and bias using the perceptron learning rule to minimize the error and improve future predictions.\n",
        "\n",
        "**Perceptron rule:**\n",
        "\n",
        "* weights += learning_rate * (y[i] - y_pred) * X[i]\n",
        "\n",
        "* bias += learning_rate * (y[i] - y_pred) to reduce the error.\n",
        "\n",
        "This iterative process continues until the perceptron correctly classifies all training examples or reaches a stopping criterion."
      ],
      "metadata": {
        "id": "C8DB_l0ilZNn"
      }
    },
    {
      "cell_type": "markdown",
      "source": [
        "## **Question - 7:** Why is the final accuracy important, what do you expect it to be?"
      ],
      "metadata": {
        "id": "Qf7rk0HOlZy4"
      }
    },
    {
      "cell_type": "markdown",
      "source": [
        "Final accuracy is important as it measures the model's performance; expect 100% accuracy for linearly separable data and less for non-separable data."
      ],
      "metadata": {
        "id": "MT1ttZn1ljxn"
      }
    },
    {
      "cell_type": "markdown",
      "source": [
        "## Step 5: Visualize Misclassified Images"
      ],
      "metadata": {
        "id": "-SLq1jbSMKPm"
      }
    },
    {
      "cell_type": "code",
      "source": [
        "# Get predictions for all data points\n",
        "predictions = np.dot(X, weights) + bias\n",
        "y_pred = np.where(predictions >= 0, 1, 0)\n",
        "\n",
        "# Calculate final accuracy\n",
        "final_accuracy = np.mean(y_pred == y)\n",
        "print(f\"Final Accuracy: {final_accuracy:.4f}\")\n",
        "\n",
        "# Step 5: Visualize Misclassified Images\n",
        "misclassified_idx = np.where(y_pred != y)[0]\n",
        "if len(misclassified_idx) > 0:\n",
        "    fig, axes = plt.subplots(2, 5, figsize=(10, 5))\n",
        "    for ax, idx in zip(axes.flat, misclassified_idx[:10]):  # Show 10 misclassified images\n",
        "        ax.imshow(X[idx].reshape(28, 28), cmap=\"gray\")\n",
        "        ax.set_title(f\"Pred: {y_pred[idx]}, True: {y[idx]}\")\n",
        "        ax.axis(\"off\")\n",
        "    plt.suptitle(\"Misclassified Images\")\n",
        "    plt.show()\n",
        "else:\n",
        "    print(\"All images were correctly classified!\")"
      ],
      "metadata": {
        "colab": {
          "base_uri": "https://localhost:8080/"
        },
        "id": "KAMz1RPGMN_A",
        "outputId": "3612a7fa-59c4-4437-d7d0-c9b96381094b"
      },
      "execution_count": 36,
      "outputs": [
        {
          "output_type": "stream",
          "name": "stdout",
          "text": [
            "Final Accuracy: 1.0000\n",
            "All images were correctly classified!\n"
          ]
        }
      ]
    },
    {
      "cell_type": "markdown",
      "source": [
        "## **Question - 8:**What does misclassified idx store, and how is it used in this code?"
      ],
      "metadata": {
        "id": "PCZgKPJ5ln5M"
      }
    },
    {
      "cell_type": "markdown",
      "source": [
        "Misclassified_idx stores the indices of missclassified samples in the dataset.\n",
        "\n",
        "In the code, it is used to visualize misclassified images."
      ],
      "metadata": {
        "id": "ZC8lgr0VlrIL"
      }
    },
    {
      "cell_type": "markdown",
      "source": [
        "## **Question - 9:** How do you interpret the result if the output is ”All images were correctly classified!”?"
      ],
      "metadata": {
        "id": "0Y44cdomlsZU"
      }
    },
    {
      "cell_type": "markdown",
      "source": [
        "The output ”All images were correctly classified!”, means that the perceptron has successfully learned to classify all samples in the dataset.\n",
        "\n",
        "There are no missclassified images i.e, (len(misclassified_idx)==0)"
      ],
      "metadata": {
        "id": "PB_enCtZlxBC"
      }
    },
    {
      "cell_type": "markdown",
      "source": [
        "# **Task 3:** Perceprton Algorithm for 3 vs 5 Classification."
      ],
      "metadata": {
        "id": "Rx3mSaUAlzS3"
      }
    },
    {
      "cell_type": "markdown",
      "source": [
        "## Step 1: Load the Dataset"
      ],
      "metadata": {
        "id": "CJIF1Y_pmF1A"
      }
    },
    {
      "cell_type": "code",
      "source": [
        "from google.colab import drive\n",
        "drive.mount('/content/drive')"
      ],
      "metadata": {
        "colab": {
          "base_uri": "https://localhost:8080/"
        },
        "id": "96Mj5mWElxTh",
        "outputId": "c72abe03-c746-48f0-8e62-2a3dcc11a159"
      },
      "execution_count": 37,
      "outputs": [
        {
          "output_type": "stream",
          "name": "stdout",
          "text": [
            "Drive already mounted at /content/drive; to attempt to forcibly remount, call drive.mount(\"/content/drive\", force_remount=True).\n"
          ]
        }
      ]
    },
    {
      "cell_type": "code",
      "source": [
        "import pandas as pd\n",
        "import numpy as np\n",
        "import matplotlib.pyplot as plt\n",
        "\n",
        "# Load the dataset\n",
        "df_3_5 = pd.read_csv(\"/content/drive/MyDrive/6CS012 - Artificial Intelligence and Machine Learning/Week 3/Copy of mnist_3_and_5.csv\")  # Add the correct file path if necessary\n",
        "\n",
        "# Extract features and labels\n",
        "X = df_3_5.drop(columns=[\"label\"]).values  # 784 pixels\n",
        "y = df_3_5[\"label\"].values  # Labels (3 or 5)\n",
        "\n",
        "# Check the shape of the features and labels\n",
        "print(\"Feature matrix shape:\", X.shape)\n",
        "print(\"Label vector shape:\", y.shape)"
      ],
      "metadata": {
        "colab": {
          "base_uri": "https://localhost:8080/"
        },
        "id": "PL5H4pVemTT9",
        "outputId": "b7a4f7c2-4777-46a7-b0d4-5d2271dd81e8"
      },
      "execution_count": 38,
      "outputs": [
        {
          "output_type": "stream",
          "name": "stdout",
          "text": [
            "Feature matrix shape: (2741, 784)\n",
            "Label vector shape: (2741,)\n"
          ]
        }
      ]
    },
    {
      "cell_type": "markdown",
      "source": [
        "### Viewing the Dataset."
      ],
      "metadata": {
        "id": "JNFfdtQjmqsZ"
      }
    },
    {
      "cell_type": "code",
      "source": [
        "# Separate images for label 3 and label 5\n",
        "images_3 = X[y == 3]  # Get all images with label 3\n",
        "images_5 = X[y == 5]  # Get all images with label 5\n",
        "\n",
        "fig, axes = plt.subplots(2, 5, figsize=(10, 5))\n",
        "\n",
        "# Check if the arrays have the required amount of data\n",
        "if len(images_3) < 5 or len(images_5) < 5:\n",
        "    print(\"Error: Not enough images in images_3 or images_5 to plot 5 images.\")\n",
        "else:\n",
        "    for i in range(5):\n",
        "        # Plot digit 3\n",
        "        axes[0, i].imshow(images_3[i].reshape(28, 28), cmap=\"gray\")\n",
        "        axes[0, i].set_title(\"Label: 3\")\n",
        "        axes[0, i].axis(\"off\")\n",
        "        # Plot digit 5\n",
        "        axes[1, i].imshow(images_5[i].reshape(28, 28), cmap=\"gray\")\n",
        "        axes[1, i].set_title(\"Label: 5\")\n",
        "        axes[1, i].axis(\"off\")\n",
        "    plt.suptitle(\"First 5 Images of 3 and 5 from MNIST Subset\")\n",
        "    plt.show()"
      ],
      "metadata": {
        "colab": {
          "base_uri": "https://localhost:8080/",
          "height": 451
        },
        "id": "1x9O33KymsSM",
        "outputId": "d3979493-b4dc-491c-cafd-14b5f5f52f02"
      },
      "execution_count": 39,
      "outputs": [
        {
          "output_type": "display_data",
          "data": {
            "text/plain": [
              "<Figure size 1000x500 with 10 Axes>"
            ],
            "image/png": "[encoded data removed]"
          },
          "metadata": {}
        }
      ]
    },
    {
      "cell_type": "markdown",
      "source": [
        "## Step - 2 - Initializing the Weights:"
      ],
      "metadata": {
        "id": "CYZSONCUm1wq"
      }
    },
    {
      "cell_type": "code",
      "source": [
        "# Initialize weights and bias\n",
        "weights = np.zeros(X.shape[1])  # 784 weights (one for each pixel)\n",
        "bias = 0\n",
        "learning_rate = 0.1\n",
        "epochs = 100"
      ],
      "metadata": {
        "id": "Rb15TF5km0DV"
      },
      "execution_count": 40,
      "outputs": []
    },
    {
      "cell_type": "markdown",
      "source": [
        "## Step - 3 - Make a Decision function:"
      ],
      "metadata": {
        "id": "OAplXBUFm6GM"
      }
    },
    {
      "cell_type": "code",
      "source": [
        "import numpy as np\n",
        "\n",
        "def decision_function(X, weights, bias):\n",
        "    \"\"\"\n",
        "    Compute the predicted labels for the input data.\n",
        "\n",
        "    Parameters:\n",
        "    - X: Features (input data) as a numpy array of shape (n_samples, n_features)\n",
        "    - weights: Updated weights after training\n",
        "    - bias: Updated bias after training\n",
        "\n",
        "    Returns:\n",
        "    - y_pred_all: The predicted labels for the input data\n",
        "    \"\"\"\n",
        "    predictions = np.dot(X, weights) + bias  # Linear combination of inputs and weights\n",
        "    y_pred_all = np.where(predictions >= 0, 1, 0)  # Activation function (step function)\n",
        "    return y_pred_all"
      ],
      "metadata": {
        "id": "BnNltY8Zm9gh"
      },
      "execution_count": 41,
      "outputs": []
    },
    {
      "cell_type": "markdown",
      "source": [
        "## Step - 3 - Implement the Perceptron Learning Algorithm"
      ],
      "metadata": {
        "id": "3LgpTEBBnCKj"
      }
    },
    {
      "cell_type": "code",
      "source": [
        "import numpy as np\n",
        "\n",
        "def train_perceptron(X, y, weights, bias, learning_rate=0.1, epochs=100):\n",
        "    \"\"\"\n",
        "    Train the perceptron using the Perceptron Learning Algorithm.\n",
        "\n",
        "    Parameters:\n",
        "    - X: Features (input data) as a numpy array of shape (n_samples, n_features)\n",
        "    - y: Labels (true output) as a numpy array of shape (n_samples,)\n",
        "    - weights: Initial weights as a numpy array of shape (n_features,)\n",
        "    - bias: Initial bias value (scalar)\n",
        "    - learning_rate: Learning rate for weight updates (default is 0.1)\n",
        "    - epochs: Number of iterations to train the model (default is 100)\n",
        "\n",
        "    Returns:\n",
        "    - weights: Updated weights after training\n",
        "    - bias: Updated bias after training\n",
        "    - accuracy: Total correct prediction.\n",
        "    \"\"\"\n",
        "    n_samples, n_features = X.shape\n",
        "\n",
        "    # Map labels: 3 -> 0, 5 -> 1\n",
        "    y_binary = np.where(y == 3, 0, 1)\n",
        "\n",
        "    for epoch in range(epochs):\n",
        "        correct_predictions = 0  # Track correct predictions for accuracy\n",
        "\n",
        "        for i in range(n_samples):\n",
        "            # Linear combination of inputs, weights, and bias\n",
        "            linear_output = np.dot(X[i], weights) + bias\n",
        "\n",
        "            # Step function as the activation function\n",
        "            y_pred = 1 if linear_output >= 0 else 0\n",
        "\n",
        "            # Update weights and bias if the prediction is incorrect\n",
        "            if y_pred != y_binary[i]:\n",
        "                weights += learning_rate * (y_binary[i] - y_pred) * X[i]\n",
        "                bias += learning_rate * (y_binary[i] - y_pred)\n",
        "\n",
        "            # Count correct predictions\n",
        "            if y_pred == y_binary[i]:\n",
        "                correct_predictions += 1\n",
        "\n",
        "        # Calculate accuracy for the current epoch\n",
        "        accuracy = correct_predictions / n_samples\n",
        "        print(f\"Epoch {epoch + 1}/{epochs}, Accuracy: {accuracy:.2f}\")\n",
        "\n",
        "    return weights, bias, accuracy"
      ],
      "metadata": {
        "id": "1NUF2b06m_Yl"
      },
      "execution_count": 42,
      "outputs": []
    },
    {
      "cell_type": "markdown",
      "source": [
        "## Training the Perceptron"
      ],
      "metadata": {
        "id": "Dbw94a1snFCu"
      }
    },
    {
      "cell_type": "code",
      "source": [
        "# After training the model with the perceptron_learning_algorithm\n",
        "weights, bias, accuracy = train_perceptron(X, y, weights, bias)\n",
        "\n",
        "# Evaluate the model using the new function\n",
        "print(\"The Final Accuracy is: \", accuracy)"
      ],
      "metadata": {
        "colab": {
          "base_uri": "https://localhost:8080/"
        },
        "id": "gHkQShzgnFsf",
        "outputId": "9a058c5a-5a6c-4e01-fba9-2fe0e33d0763"
      },
      "execution_count": 43,
      "outputs": [
        {
          "output_type": "stream",
          "name": "stdout",
          "text": [
            "Epoch 1/100, Accuracy: 0.92\n",
            "Epoch 2/100, Accuracy: 0.94\n",
            "Epoch 3/100, Accuracy: 0.94\n",
            "Epoch 4/100, Accuracy: 0.95\n",
            "Epoch 5/100, Accuracy: 0.95\n",
            "Epoch 6/100, Accuracy: 0.95\n",
            "Epoch 7/100, Accuracy: 0.96\n",
            "Epoch 8/100, Accuracy: 0.96\n",
            "Epoch 9/100, Accuracy: 0.95\n",
            "Epoch 10/100, Accuracy: 0.96\n",
            "Epoch 11/100, Accuracy: 0.96\n",
            "Epoch 12/100, Accuracy: 0.96\n",
            "Epoch 13/100, Accuracy: 0.97\n",
            "Epoch 14/100, Accuracy: 0.96\n",
            "Epoch 15/100, Accuracy: 0.96\n",
            "Epoch 16/100, Accuracy: 0.97\n",
            "Epoch 17/100, Accuracy: 0.96\n",
            "Epoch 18/100, Accuracy: 0.96\n",
            "Epoch 19/100, Accuracy: 0.96\n",
            "Epoch 20/100, Accuracy: 0.97\n",
            "Epoch 21/100, Accuracy: 0.97\n",
            "Epoch 22/100, Accuracy: 0.97\n",
            "Epoch 23/100, Accuracy: 0.97\n",
            "Epoch 24/100, Accuracy: 0.97\n",
            "Epoch 25/100, Accuracy: 0.96\n",
            "Epoch 26/100, Accuracy: 0.97\n",
            "Epoch 27/100, Accuracy: 0.97\n",
            "Epoch 28/100, Accuracy: 0.97\n",
            "Epoch 29/100, Accuracy: 0.97\n",
            "Epoch 30/100, Accuracy: 0.97\n",
            "Epoch 31/100, Accuracy: 0.97\n",
            "Epoch 32/100, Accuracy: 0.97\n",
            "Epoch 33/100, Accuracy: 0.97\n",
            "Epoch 34/100, Accuracy: 0.97\n",
            "Epoch 35/100, Accuracy: 0.97\n",
            "Epoch 36/100, Accuracy: 0.97\n",
            "Epoch 37/100, Accuracy: 0.97\n",
            "Epoch 38/100, Accuracy: 0.97\n",
            "Epoch 39/100, Accuracy: 0.98\n",
            "Epoch 40/100, Accuracy: 0.97\n",
            "Epoch 41/100, Accuracy: 0.98\n",
            "Epoch 42/100, Accuracy: 0.98\n",
            "Epoch 43/100, Accuracy: 0.97\n",
            "Epoch 44/100, Accuracy: 0.98\n",
            "Epoch 45/100, Accuracy: 0.97\n",
            "Epoch 46/100, Accuracy: 0.98\n",
            "Epoch 47/100, Accuracy: 0.97\n",
            "Epoch 48/100, Accuracy: 0.97\n",
            "Epoch 49/100, Accuracy: 0.97\n",
            "Epoch 50/100, Accuracy: 0.98\n",
            "Epoch 51/100, Accuracy: 0.98\n",
            "Epoch 52/100, Accuracy: 0.98\n",
            "Epoch 53/100, Accuracy: 0.98\n",
            "Epoch 54/100, Accuracy: 0.98\n",
            "Epoch 55/100, Accuracy: 0.97\n",
            "Epoch 56/100, Accuracy: 0.98\n",
            "Epoch 57/100, Accuracy: 0.97\n",
            "Epoch 58/100, Accuracy: 0.98\n",
            "Epoch 59/100, Accuracy: 0.98\n",
            "Epoch 60/100, Accuracy: 0.98\n",
            "Epoch 61/100, Accuracy: 0.98\n",
            "Epoch 62/100, Accuracy: 0.98\n",
            "Epoch 63/100, Accuracy: 0.98\n",
            "Epoch 64/100, Accuracy: 0.98\n",
            "Epoch 65/100, Accuracy: 0.98\n",
            "Epoch 66/100, Accuracy: 0.98\n",
            "Epoch 67/100, Accuracy: 0.98\n",
            "Epoch 68/100, Accuracy: 0.98\n",
            "Epoch 69/100, Accuracy: 0.98\n",
            "Epoch 70/100, Accuracy: 0.98\n",
            "Epoch 71/100, Accuracy: 0.98\n",
            "Epoch 72/100, Accuracy: 0.99\n",
            "Epoch 73/100, Accuracy: 0.98\n",
            "Epoch 74/100, Accuracy: 0.98\n",
            "Epoch 75/100, Accuracy: 0.98\n",
            "Epoch 76/100, Accuracy: 0.98\n",
            "Epoch 77/100, Accuracy: 0.98\n",
            "Epoch 78/100, Accuracy: 0.98\n",
            "Epoch 79/100, Accuracy: 0.98\n",
            "Epoch 80/100, Accuracy: 0.98\n",
            "Epoch 81/100, Accuracy: 0.98\n",
            "Epoch 82/100, Accuracy: 0.98\n",
            "Epoch 83/100, Accuracy: 0.98\n",
            "Epoch 84/100, Accuracy: 0.98\n",
            "Epoch 85/100, Accuracy: 0.99\n",
            "Epoch 86/100, Accuracy: 0.98\n",
            "Epoch 87/100, Accuracy: 0.98\n",
            "Epoch 88/100, Accuracy: 0.99\n",
            "Epoch 89/100, Accuracy: 0.98\n",
            "Epoch 90/100, Accuracy: 0.98\n",
            "Epoch 91/100, Accuracy: 0.98\n",
            "Epoch 92/100, Accuracy: 0.98\n",
            "Epoch 93/100, Accuracy: 0.99\n",
            "Epoch 94/100, Accuracy: 0.98\n",
            "Epoch 95/100, Accuracy: 0.99\n",
            "Epoch 96/100, Accuracy: 0.98\n",
            "Epoch 97/100, Accuracy: 0.99\n",
            "Epoch 98/100, Accuracy: 0.99\n",
            "Epoch 99/100, Accuracy: 0.98\n",
            "Epoch 100/100, Accuracy: 0.99\n",
            "The Final Accuracy is:  0.9857716161984678\n"
          ]
        }
      ]
    },
    {
      "cell_type": "markdown",
      "source": [
        "## Step 5: Visualize Misclassified Images"
      ],
      "metadata": {
        "id": "XZuYKBVUnkKg"
      }
    },
    {
      "cell_type": "code",
      "source": [
        "# Get predictions for all data points using the decision function\n",
        "y_pred = decision_function(X, weights, bias)\n",
        "\n",
        "# Calculate final accuracy\n",
        "final_accuracy = np.mean(y_pred == y)\n",
        "print(f\"Final Accuracy: {final_accuracy:.4f}\")\n",
        "\n",
        "# Step 5: Visualize Misclassified Images\n",
        "misclassified_idx = np.where(y_pred != y)[0]\n",
        "if len(misclassified_idx) > 0:\n",
        "    fig, axes = plt.subplots(2, 5, figsize=(10, 5))\n",
        "    for ax, idx in zip(axes.flat, misclassified_idx[:10]):  # Show 10 misclassified images\n",
        "        ax.imshow(X[idx].reshape(28, 28), cmap=\"gray\")\n",
        "        ax.set_title(f\"Pred: {y_pred[idx]}, True: {y[idx]}\")\n",
        "        ax.axis(\"off\")\n",
        "    plt.suptitle(\"Misclassified Images\")\n",
        "    plt.show()\n",
        "else:\n",
        "    print(\"All images were correctly classified!\")"
      ],
      "metadata": {
        "colab": {
          "base_uri": "https://localhost:8080/",
          "height": 468
        },
        "id": "-XFQAkEAneE3",
        "outputId": "1dd5b4f7-d0ab-4c23-c357-2bd00f52c892"
      },
      "execution_count": 44,
      "outputs": [
        {
          "output_type": "stream",
          "name": "stdout",
          "text": [
            "Final Accuracy: 0.0000\n"
          ]
        },
        {
          "output_type": "display_data",
          "data": {
            "text/plain": [
              "<Figure size 1000x500 with 10 Axes>"
            ],
            "image/png": "[encoded data removed]"
          },
          "metadata": {}
        }
      ]
    }
  ]
}