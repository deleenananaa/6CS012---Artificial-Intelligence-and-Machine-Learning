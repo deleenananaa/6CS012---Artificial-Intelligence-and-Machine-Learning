{
  "nbformat": 4,
  "nbformat_minor": 0,
  "metadata": {
    "colab": {
      "provenance": []
    },
    "kernelspec": {
      "name": "python3",
      "display_name": "Python 3"
    },
    "language_info": {
      "name": "python"
    }
  },
  "cells": [
    {
      "cell_type": "markdown",
      "source": [
        "# 1. Exercise on Functions:"
      ],
      "metadata": {
        "id": "ScqthbxUWJ_G"
      }
    },
    {
      "cell_type": "markdown",
      "source": [
        "## Task - 1:\n",
        "\n",
        "Create a Python program that converts between different units of measurement.\n",
        "\n",
        "• The program should:\n",
        "1. Prompt the user to choose the type of conversion (e.g., length, weight, volume).\n",
        "2. Ask the user to input the value to be converted.\n",
        "3. Perform the conversion and display the result.\n",
        "4. Handle potential errors, such as invalid input or unsupported conversion types.\n",
        "\n",
        "• Requirements:\n",
        "1. Functions: Define at least one function to perform the conversion.\n",
        "2. Error Handling: Use try-except blocks to handle invalid input (e.g., non-numeric values).\n",
        "3. User Input: Prompt the user to select the conversion type and input the value.\n",
        "4. Docstrings: Include a docstring in your function to describe its purpose, parameters, and\n",
        "return value.\n",
        "\n",
        "• Conversion Options:\n",
        "1. Length:\n",
        "– Convert meters (m) to feet (ft).\n",
        "– Convert feet (ft) to meters (m).\n",
        "2. Weight:\n",
        "– Convert kilograms (kg) to pounds (lbs).\n",
        "– Convert pounds (lbs) to kilograms (kg).\n",
        "3. Volume:\n",
        "– Convert liters (L) to gallons (gal).\n",
        "– Convert gallons (gal) to liters (L)."
      ],
      "metadata": {
        "id": "XaGpYOy7V1cp"
      }
    },
    {
      "cell_type": "code",
      "execution_count": null,
      "metadata": {
        "id": "DgUP_j9VVguq",
        "colab": {
          "base_uri": "https://localhost:8080/"
        },
        "outputId": "5e1389a8-1d9f-498b-d7ed-a64ec73e828c"
      },
      "outputs": [
        {
          "output_type": "stream",
          "name": "stdout",
          "text": [
            "Unit Converter: \n",
            "1. Length (Meters to Feet)\n",
            "2. Weight (Kilograms to Pounds)\n",
            "3. Volume (Liters to Gallons)\n",
            "Choose a conversion type (1/2/3): 1\n",
            "Enter the number to convert: 20\n",
            "Enter the unit (m or ft): ft\n",
            "Converted Value: 6.0960\n"
          ]
        }
      ],
      "source": [
        "def length_convert(value, unit):\n",
        "    if unit == 'm':\n",
        "        return value * 3.28084\n",
        "    elif unit == 'ft':\n",
        "        return value / 3.28084\n",
        "    else:\n",
        "        raise ValueError(\"Invalid unit for conversion.\")\n",
        "\n",
        "def weight_convert(value, unit):\n",
        "    if unit == 'kg':\n",
        "        return value * 2.20462  #kg to lbs\n",
        "    elif unit == 'lbs':\n",
        "        return value / 2.20462  #lbs to kg\n",
        "    else:\n",
        "        raise ValueError(\"Invalid unit for weight conversion.\")\n",
        "\n",
        "def volume_convert(value, unit):\n",
        "    if unit == 'L':\n",
        "        return value * 0.264172  #liters to gallons\n",
        "    elif unit == 'gal':\n",
        "        return value / 0.264172  #gallons to liters\n",
        "    else:\n",
        "        raise ValueError(\"Invalid unit for conversion.\")\n",
        "\n",
        "def main():\n",
        "    print(\"Unit Converter: \")\n",
        "    print(\"1. Length (Meters to Feet)\")\n",
        "    print(\"2. Weight (Kilograms to Pounds)\")\n",
        "    print(\"3. Volume (Liters to Gallons)\")\n",
        "\n",
        "    try:\n",
        "        input = int(input(\"Choose a conversion type (1/2/3): \"))\n",
        "        value = float(input(\"Enter the number to convert: \"))\n",
        "\n",
        "        if input == 1:\n",
        "            unit = input(\"Enter the unit (m or ft): \").strip().lower()\n",
        "            converted_value = length_convert(value, unit)\n",
        "            print(f\"Converted Value: {converted_value:.4f}\")\n",
        "        elif input == 2:\n",
        "            unit = input(\"Enter the unit (kg or lbs): \").strip().lower()\n",
        "            converted_value = weight_convert(value, unit)\n",
        "            print(f\"Converted Value: {converted_value:.4f}\")\n",
        "        elif input == 3:\n",
        "            unit = input(\"Enter the unit (L or gal): \").strip().lower()\n",
        "            converted_value = volume_convert(value, unit)\n",
        "            print(f\"Converted Value: {converted_value:.4f}\")\n",
        "        else:\n",
        "            print(\"Invalid choice. Please select 1, 2, or 3.\")\n",
        "    except ValueError as e:\n",
        "        print(f\"Error: {e}. Please enter valid numeric values and units.\")\n",
        "    except Exception as e:\n",
        "        print(f\"Unexpected error: {e}\")\n",
        "\n",
        "if __name__ == \"__main__\":\n",
        "    main()"
      ]
    },
    {
      "cell_type": "markdown",
      "source": [
        "## Task - 2:\n",
        "\n",
        "Create a Python program that performs various mathematical operations on a list of numbers.\n",
        "\n",
        "• The Program should:\n",
        "1. Prompt the user to choose an operation (e.g., find the sum, average, maximum, or minimum\n",
        "of the numbers).\n",
        "2. Ask the user to input a list of numbers (separated by spaces).\n",
        "\n",
        "3. Perform the selected operation and display the result.\n",
        "4. Handle potential errors, such as invalid input or empty lists.\n",
        "\n",
        "• Requirements:\n",
        "\n",
        "1. Functions: Define at least one function for each operation (sum, average, maximum, mini-\n",
        "mum).\n",
        "2. Error Handling: Use try-except blocks to handle invalid input (e.g., non-numeric values or\n",
        "empty lists).\n",
        "3. User Input: Prompt the user to select the operation and input the list of numbers.\n",
        "4. Docstrings: Include a docstring in each function to describe its purpose, parameters, and\n",
        "return value."
      ],
      "metadata": {
        "id": "61f3rVRKWM2b"
      }
    },
    {
      "cell_type": "code",
      "source": [
        "def calculate_sum(num):\n",
        "    return sum(num)\n",
        "\n",
        "def calculate_average(num):\n",
        "    return sum(num) / len(num) if num else 0\n",
        "\n",
        "def find_maximum(num):\n",
        "    return max(num)\n",
        "\n",
        "def find_minimum(num):\n",
        "    return min(num)\n",
        "\n",
        "def main():\n",
        "    print(\"Choose an Operation:\")\n",
        "    print(\"1. Sum\")\n",
        "    print(\"2. Average\")\n",
        "    print(\"3. Maximum\")\n",
        "    print(\"4. Minimum\")\n",
        "\n",
        "    try:\n",
        "        operation = int(input(\"Choose an operation (1/2/3/4): \"))  # Renamed from 'input' to 'choice'\n",
        "        num = list(map(float, input(\"Enter numbers separated by spaces: \").split()))\n",
        "\n",
        "        if not num:\n",
        "            raise ValueError(\"The list cannot be empty.\")\n",
        "\n",
        "        if operation == 1:\n",
        "            result = calculate_sum(num)\n",
        "        elif operation == 2:\n",
        "            result = calculate_average(num)\n",
        "        elif operation == 3:\n",
        "            result = find_maximum(num)\n",
        "        elif operation == 4:\n",
        "            result = find_minimum(num)\n",
        "        else:\n",
        "            print(\"Invalid choice. Please select 1, 2, 3, or 4.\")\n",
        "            return\n",
        "\n",
        "        print(f\"Result: {result}\")\n",
        "    except ValueError as e:\n",
        "        print(f\"Error: {e}. Please enter valid numbers.\")\n",
        "    except Exception as e:\n",
        "        print(f\"Unexpected error: {e}\")\n",
        "\n",
        "if __name__ == \"__main__\":\n",
        "    main()"
      ],
      "metadata": {
        "id": "-ZpxUQVRWcKF",
        "colab": {
          "base_uri": "https://localhost:8080/"
        },
        "outputId": "5ac1d263-582a-4544-c587-76a329f74b98"
      },
      "execution_count": null,
      "outputs": [
        {
          "output_type": "stream",
          "name": "stdout",
          "text": [
            "Choose an Operation:\n",
            "1. Sum\n",
            "2. Average\n",
            "3. Maximum\n",
            "4. Minimum\n",
            "Choose an operation (1/2/3/4): 4\n",
            "Enter numbers separated by spaces: 10 99 68 109\n",
            "Result: 10.0\n"
          ]
        }
      ]
    },
    {
      "cell_type": "markdown",
      "source": [
        "# 2. Exercise on List Manipulation:"
      ],
      "metadata": {
        "id": "NrSueeHdWwYo"
      }
    },
    {
      "cell_type": "markdown",
      "source": [
        "1. Extract Every Other Element:\n",
        "\n",
        "Write a Python function that extracts every other element from a list, starting from the first element.\n",
        "\n",
        "• Requirements:\n",
        "\n",
        "– Define a function extract every other(lst) that takes a list lst as input and returns a\n",
        "new list containing every other element from the original list.\n",
        "\n",
        "– Example: For the input [1, 2, 3, 4, 5, 6], the output should be [1, 3, 5]."
      ],
      "metadata": {
        "id": "ffOq-YaEWcgP"
      }
    },
    {
      "cell_type": "code",
      "source": [
        "def extract_list(lst):\n",
        "    return lst[::2]  #slicing with step 2 to get every other element\n",
        "\n",
        "input_list = [1, 2, 3, 4, 5, 6]\n",
        "output_list = extract_list(input_list)\n",
        "print(\"Original List:\",input_list)\n",
        "print(\"New List:\",output_list)"
      ],
      "metadata": {
        "id": "ntn4ny_oXB2F",
        "colab": {
          "base_uri": "https://localhost:8080/"
        },
        "outputId": "e3adbdd1-54ae-4928-a87f-5a899e1f05d1"
      },
      "execution_count": null,
      "outputs": [
        {
          "output_type": "stream",
          "name": "stdout",
          "text": [
            "Original List: [1, 2, 3, 4, 5, 6]\n",
            "New List: [1, 3, 5]\n"
          ]
        }
      ]
    },
    {
      "cell_type": "markdown",
      "source": [
        "**2**. Slice a Sublist:\n",
        "\n",
        "Write a Python function that returns a sublist from a given list, starting from a specified index and\n",
        "ending at another specified index.\n",
        "\n",
        "• Requirements:\n",
        "\n",
        "– Define a function get sublist(lst, start, end) that takes a list lst, a starting index\n",
        "start, and an ending index end as input and returns the sublist from start to end (inclusive).\n",
        "\n",
        "– Example: For the input [1, 2, 3, 4, 5, 6] with start=2 and end=4, the output should\n",
        "be [3, 4, 5]."
      ],
      "metadata": {
        "id": "iBqeuYXFrtGR"
      }
    },
    {
      "cell_type": "code",
      "source": [
        "def sublist(lst, start, end):\n",
        "    return lst[start:end+1]  #slicing from start to end (inclusive)\n",
        "\n",
        "input_list = [1, 2, 3, 4, 5, 6]\n",
        "start_index = 2\n",
        "end_index = 4\n",
        "\n",
        "output_list = sublist(input_list, start_index, end_index)\n",
        "\n",
        "print(f\"Original List: {input_list}\")\n",
        "print(f\"Sublist from index {start_index} to {end_index} is: {output_list}\")"
      ],
      "metadata": {
        "id": "Ur8Jj-FNrsSE",
        "colab": {
          "base_uri": "https://localhost:8080/"
        },
        "outputId": "9152e866-f186-4371-9fa5-f4f84561ac35"
      },
      "execution_count": null,
      "outputs": [
        {
          "output_type": "stream",
          "name": "stdout",
          "text": [
            "Original List: [1, 2, 3, 4, 5, 6]\n",
            "Sublist from index 2 to 4 is: [3, 4, 5]\n"
          ]
        }
      ]
    },
    {
      "cell_type": "markdown",
      "source": [
        "3. Reverse a List Using Slicing:\n",
        "\n",
        "Write a Python function that reverses a list using slicing.\n",
        "\n",
        "• Requirements:\n",
        "\n",
        "– Define a function reverse list(lst) that takes a list lst and returns a reversed list using\n",
        "slicing.\n",
        "\n",
        "– Example: For the input [1, 2, 3, 4, 5], the output should be [5, 4, 3, 2, 1]."
      ],
      "metadata": {
        "id": "1YBBWVbRr0NF"
      }
    },
    {
      "cell_type": "code",
      "source": [
        "def reverse_list(lst):\n",
        "    return lst[::-1]  #slicing with -1 to reverse the list\n",
        "\n",
        "input_list = [1, 2, 3, 4, 5]\n",
        "output_list = reverse_list(input_list)\n",
        "\n",
        "print(\"Original List:\",input_list)\n",
        "print(\"Reversed List:\",output_list)"
      ],
      "metadata": {
        "id": "lSCANZ_Tr_HP",
        "colab": {
          "base_uri": "https://localhost:8080/"
        },
        "outputId": "4eab4643-0c38-4958-c420-25e112e00c3c"
      },
      "execution_count": null,
      "outputs": [
        {
          "output_type": "stream",
          "name": "stdout",
          "text": [
            "Original List: [1, 2, 3, 4, 5]\n",
            "Reversed List: [5, 4, 3, 2, 1]\n"
          ]
        }
      ]
    },
    {
      "cell_type": "markdown",
      "source": [
        "4. Remove the First and Last Elements:\n",
        "\n",
        "Write a Python function that removes the first and last elements of a list and returns the resulting\n",
        "sublist.\n",
        "\n",
        "• Requirements:\n",
        "\n",
        "– Define a function remove first last(lst) that takes a list lst and returns a sublist without\n",
        "the first and last elements using slicing.\n",
        "\n",
        "– Example: For the input [1, 2, 3, 4, 5], the output should be [2, 3, 4]."
      ],
      "metadata": {
        "id": "MReHF_1qr7C2"
      }
    },
    {
      "cell_type": "code",
      "source": [
        "def remove_first_last(lst):\n",
        "    return lst[1:-1]  #slicing to remove first and last elements\n",
        "\n",
        "input_list = [1, 2, 3, 4, 5]\n",
        "output_list = remove_first_last(input_list)\n",
        "\n",
        "print(\"Original List:\",input_list)\n",
        "print(\"New List:\",output_list)"
      ],
      "metadata": {
        "id": "zOM9IrjhsFje",
        "colab": {
          "base_uri": "https://localhost:8080/"
        },
        "outputId": "5c92adf1-284d-4330-e08c-05251ef8b0ca"
      },
      "execution_count": null,
      "outputs": [
        {
          "output_type": "stream",
          "name": "stdout",
          "text": [
            "Original List: [1, 2, 3, 4, 5]\n",
            "New List: [2, 3, 4]\n"
          ]
        }
      ]
    },
    {
      "cell_type": "markdown",
      "source": [
        "5. Get the First n Elements:\n",
        "\n",
        "Write a Python function that extracts the first n elements from a list.\n",
        "\n",
        "• Requirements:\n",
        "\n",
        "– Define a function get first n(lst, n) that takes a list lst and an integer n as input and\n",
        "returns the first n elements of the list using slicing.\n",
        "\n",
        "– Example: For the input [1, 2, 3, 4, 5] with n=3, the output should be [1, 2, 3]."
      ],
      "metadata": {
        "id": "jGdi8XCLsF08"
      }
    },
    {
      "cell_type": "code",
      "source": [
        "def first_n(lst, n):\n",
        "    return lst[:n]  #slicing to get the first n elements\n",
        "\n",
        "input_list = [1, 2, 3, 4, 5]\n",
        "n = 3\n",
        "output_list = first_n(input_list, n)\n",
        "\n",
        "print(f\"Original List: {input_list}\")\n",
        "print(f\"First {n} Elements: {output_list}\")"
      ],
      "metadata": {
        "id": "6cHX04gLsNlB",
        "colab": {
          "base_uri": "https://localhost:8080/"
        },
        "outputId": "e0c841a4-2d17-41ea-e284-3555e32fbe15"
      },
      "execution_count": null,
      "outputs": [
        {
          "output_type": "stream",
          "name": "stdout",
          "text": [
            "Original List: [1, 2, 3, 4, 5]\n",
            "First 3 Elements: [1, 2, 3]\n"
          ]
        }
      ]
    },
    {
      "cell_type": "markdown",
      "source": [
        "6. Extract Elements from the End:\n",
        "\n",
        "Write a Python function that extracts the last n elements of a list using slicing.\n",
        "\n",
        "• Requirements:\n",
        "\n",
        "– Define a function get last n(lst, n) that takes a list lst and an integer n as input and\n",
        "returns the last n elements of the list.\n",
        "\n",
        "– Example: For the input [1, 2, 3, 4, 5] with n=2, the output should be [4, 5]."
      ],
      "metadata": {
        "id": "-coEU6SrsN7-"
      }
    },
    {
      "cell_type": "code",
      "source": [
        "def last_n(lst, n):\n",
        "    return lst[-n:]  #slicing to get the last n element\n",
        "\n",
        "input_list = [1, 2, 3, 4, 5]\n",
        "n = 2\n",
        "output_list = last_n(input_list, n)\n",
        "\n",
        "print(f\"Original List: {input_list}\")\n",
        "print(f\"Last {n} Elements: {output_list}\")"
      ],
      "metadata": {
        "id": "bdyIDrIisRrQ",
        "colab": {
          "base_uri": "https://localhost:8080/"
        },
        "outputId": "51666fe3-7934-4680-f03c-6e04b71385f4"
      },
      "execution_count": null,
      "outputs": [
        {
          "output_type": "stream",
          "name": "stdout",
          "text": [
            "Original List: [1, 2, 3, 4, 5]\n",
            "Last 2 Elements: [4, 5]\n"
          ]
        }
      ]
    },
    {
      "cell_type": "markdown",
      "source": [
        "7. Extract Elements in Reverse Order:\n",
        "\n",
        "Write a Python function that extracts a list of elements in reverse order starting from the second-to-last\n",
        "element and skipping one element in between.\n",
        "\n",
        "• Requirements:\n",
        "\n",
        "– Define a function reverse skip(lst) that takes a list lst and returns a new list containing\n",
        "every second element starting from the second-to-last, moving backward.\n",
        "\n",
        "– Example: For the input [1, 2, 3, 4, 5, 6], the output should be [5, 3, 1]."
      ],
      "metadata": {
        "id": "QH6c1uuOsR8d"
      }
    },
    {
      "cell_type": "code",
      "source": [
        "def reverse_skip(lst):\n",
        "    return lst[-2::-2]  #start from second-to-last, move backward skipping one element\n",
        "\n",
        "input_list = [1, 2, 3, 4, 5, 6]\n",
        "output_list = reverse_skip(input_list)\n",
        "\n",
        "print(\"Original List:\",input_list)\n",
        "print(\"Reversed & Skipped List:\",output_list)"
      ],
      "metadata": {
        "id": "0tDf4m_osUlW",
        "colab": {
          "base_uri": "https://localhost:8080/"
        },
        "outputId": "fc177ee8-6bf0-424e-8109-25879c5298e5"
      },
      "execution_count": null,
      "outputs": [
        {
          "output_type": "stream",
          "name": "stdout",
          "text": [
            "Original List: [1, 2, 3, 4, 5, 6]\n",
            "Reversed & Skipped List: [5, 3, 1]\n"
          ]
        }
      ]
    },
    {
      "cell_type": "markdown",
      "source": [
        "# 3. Exercise on Nested List:"
      ],
      "metadata": {
        "id": "NJk7Api4qkit"
      }
    },
    {
      "cell_type": "markdown",
      "source": [
        "1. Flatten a Nested List:\n",
        "\n",
        "Write a Python function that takes a nested list and flattens it into a single list, where all the elements\n",
        "are in a single dimension.\n",
        "\n",
        "• Requirements:\n",
        "\n",
        "– Define a function flatten(lst) that takes a nested list lst and returns a flattened version\n",
        "of the list.\n",
        "\n",
        "– Example: For the input [[1, 2], [3, 4], [5]], the output should be [1, 2, 3, 4, 5]."
      ],
      "metadata": {
        "id": "Ab1qZaIdqeXV"
      }
    },
    {
      "cell_type": "code",
      "source": [
        "def flatten(lst):\n",
        "    flat_list = [] #initialize empty list\n",
        "    for sublist in lst:\n",
        "        flat_list.extend(sublist)  #combines main list with elements from sublists\n",
        "    return flat_list\n",
        "\n",
        "input_list = [[1, 2], [3, 4], [5]]\n",
        "output_list = flatten(input_list)\n",
        "\n",
        "print(\"Original Nested List:\", input_list)\n",
        "print(\"Flattened List:\", output_list)"
      ],
      "metadata": {
        "id": "O85GNAa7qySa",
        "colab": {
          "base_uri": "https://localhost:8080/"
        },
        "outputId": "e057b96f-e8a3-4eb8-a24f-c57e3bddc9e2"
      },
      "execution_count": null,
      "outputs": [
        {
          "output_type": "stream",
          "name": "stdout",
          "text": [
            "Original Nested List: [[1, 2], [3, 4], [5]]\n",
            "Flattened List: [1, 2, 3, 4, 5]\n"
          ]
        }
      ]
    },
    {
      "cell_type": "markdown",
      "source": [
        "2. Accessing Nested List Elements:\n",
        "\n",
        "Write a Python function that extracts a specific element from a nested list given its indices.\n",
        "\n",
        "• Requirements:\n",
        "\n",
        "– Define a function access nested element(lst, indices) that takes a nested list lst and\n",
        "a list of indices indices, and returns the element at that position.\n",
        "\n",
        "– Example: For the input lst = [[1, 2, 3], [4, 5, 6], [7, 8, 9]] with indices = [1,\n",
        "2], the output should be 6."
      ],
      "metadata": {
        "id": "zQEmgkdJshC6"
      }
    },
    {
      "cell_type": "code",
      "source": [
        "def access_nested_element(lst, indices):\n",
        "    try:\n",
        "        element = lst\n",
        "        for index in indices:\n",
        "            element = element[index]  #iterate through the nested list\n",
        "        return element\n",
        "    except (IndexError, TypeError):\n",
        "        return \"Invalid indices or structure.\"\n",
        "\n",
        "nested_list = [[1, 2, 3], [4, 5, 6], [7, 8, 9]]\n",
        "indices = [1, 2]  #extracting element at row[1] col[2]\n",
        "\n",
        "result = access_nested_element(nested_list, indices)\n",
        "print(\"Nested List:\",nested_list)\n",
        "print(\"Indices:\",indices)\n",
        "print(\"Output:\",result)"
      ],
      "metadata": {
        "id": "t-tWIWN1skG8",
        "colab": {
          "base_uri": "https://localhost:8080/"
        },
        "outputId": "195d5e45-514b-49ce-a962-588d64d739a4"
      },
      "execution_count": null,
      "outputs": [
        {
          "output_type": "stream",
          "name": "stdout",
          "text": [
            "Nested List: [[1, 2, 3], [4, 5, 6], [7, 8, 9]]\n",
            "Indices: [1, 2]\n",
            "Output: 6\n"
          ]
        }
      ]
    },
    {
      "cell_type": "markdown",
      "source": [
        "3. Sum of All Elements in a Nested List:\n",
        "\n",
        "Write a Python function that calculates the sum of all the numbers in a nested list (regardless of depth).\n",
        "\n",
        "• Requirements:\n",
        "\n",
        "– Define a function sum nested(lst) that takes a nested list lst and returns the sum of all\n",
        "the elements.\n",
        "\n",
        "– Example: For the input [[1, 2], [3, [4, 5]], 6], the output should be 21."
      ],
      "metadata": {
        "id": "jk057q2lscny"
      }
    },
    {
      "cell_type": "code",
      "source": [
        "def sum_nested(lst):\n",
        "    total = 0  #initialize the sum\n",
        "\n",
        "    for element in lst:\n",
        "        if isinstance(element, list):\n",
        "            total += sum_nested(element)  #add nested list elements recursively\n",
        "        else:\n",
        "            total += element\n",
        "    return total\n",
        "\n",
        "nested_list = [[1, 2], [3, [4, 5]], 6]\n",
        "sum_list = sum_nested(nested_list)\n",
        "print(\"Nested List:\",nested_list)\n",
        "print(\"Sum of Nested List:\",sum_list)"
      ],
      "metadata": {
        "id": "hi9csq3zsp6U",
        "colab": {
          "base_uri": "https://localhost:8080/"
        },
        "outputId": "419b19fd-74bf-48b2-e2db-9ad649ec6bc5"
      },
      "execution_count": null,
      "outputs": [
        {
          "output_type": "stream",
          "name": "stdout",
          "text": [
            "Nested List: [[1, 2], [3, [4, 5]], 6]\n",
            "Sum of Nested List: 21\n"
          ]
        }
      ]
    },
    {
      "cell_type": "markdown",
      "source": [
        "4. Remove Specific Element from a Nested List:\n",
        "\n",
        "Write a Python function that removes all occurrences of a specific element from a nested list.\n",
        "\n",
        "• Requirements:\n",
        "\n",
        "– Define a function remove element(lst, elem) that removes elem from lst and returns the\n",
        "modified list.\n",
        "\n",
        "– Example: For the input lst = [[1, 2], [3, 2], [4, 5]] and elem = 2, the output should\n",
        "be [[1], [3], [4, 5]]."
      ],
      "metadata": {
        "id": "yi3CeQrHsqNd"
      }
    },
    {
      "cell_type": "code",
      "source": [
        "def remove_element(lst, elements):\n",
        "    result = [] #initialize empty list\n",
        "    for item in lst:\n",
        "        if isinstance(item, list): #check if the item is a nested list\n",
        "            sublist = remove_element(item, elements) # process the nested list recursively\n",
        "            if sublist:  #only append non-empty lists to the result\n",
        "                result.append(sublist)\n",
        "        elif item != elements: #keep the item if is not the element to be removed\n",
        "            result.append(item)\n",
        "    return result\n",
        "\n",
        "input_list = [[1, 2], [3, 2], [4, 5]]\n",
        "elements = 2\n",
        "new_list = remove_element(input_list, elements)\n",
        "\n",
        "print(\"Original List:\",input_list)\n",
        "print(\"New List:\",new_list)"
      ],
      "metadata": {
        "id": "b9bt0zC8st6C",
        "colab": {
          "base_uri": "https://localhost:8080/"
        },
        "outputId": "705da526-79bb-4012-fb2f-6827dd152b98"
      },
      "execution_count": null,
      "outputs": [
        {
          "output_type": "stream",
          "name": "stdout",
          "text": [
            "Original List: [[1, 2], [3, 2], [4, 5]]\n",
            "New List: [[1], [3], [4, 5]]\n"
          ]
        }
      ]
    },
    {
      "cell_type": "markdown",
      "source": [
        "5. Find the Maximum Element in a Nested List:\n",
        "\n",
        "Write a Python function that finds the maximum element in a nested list (regardless of depth).\n",
        "\n",
        "• Requirements:\n",
        "\n",
        "– Define a function find max(lst) that takes a nested list lst and returns the maximum\n",
        "element.\n",
        "\n",
        "– Example: For the input [[1, 2], [3, [4, 5]], 6], the output should be 6."
      ],
      "metadata": {
        "id": "AEELyi0DsuSp"
      }
    },
    {
      "cell_type": "code",
      "source": [
        "def find_max(lst):\n",
        "    max_value = float('-inf')  #initialize value with negative infinity to handle any number\n",
        "\n",
        "    for item in lst:\n",
        "        if isinstance(item, list):  #recursively find maximum element\n",
        "            max_value = max(max_value, find_max(item))\n",
        "        else:  #if item is a number, compare with max_value\n",
        "            max_value = max(max_value, item)\n",
        "    return max_value\n",
        "\n",
        "input_list = [[1, 2], [3, [4, 5]], 6]\n",
        "maximum_element = find_max(input_list)\n",
        "\n",
        "print(\"Original List:\",input_list)\n",
        "print(\"Maximum Element:\",maximum_element)"
      ],
      "metadata": {
        "id": "zcr6A7Llszhq",
        "colab": {
          "base_uri": "https://localhost:8080/"
        },
        "outputId": "0eca368b-b501-4682-8984-85ae5279dc6d"
      },
      "execution_count": null,
      "outputs": [
        {
          "output_type": "stream",
          "name": "stdout",
          "text": [
            "Original List: [[1, 2], [3, [4, 5]], 6]\n",
            "Maximum Element: 6\n"
          ]
        }
      ]
    },
    {
      "cell_type": "markdown",
      "source": [
        "6. Count Occurrences of an Element in a Nested List:\n",
        "\n",
        "Write a Python function that counts how many times a specific element appears in a nested list.\n",
        "\n",
        "• Requirements:\n",
        "\n",
        "– Define a function count occurrences(lst, elem) that counts the occurrences of elem in\n",
        "the nested list lst.\n",
        "\n",
        "– Example: For the input lst = [[1, 2], [2, 3], [2, 4]] and elem = 2, the output should\n",
        "be 3."
      ],
      "metadata": {
        "id": "BI_mVKK8sz11"
      }
    },
    {
      "cell_type": "code",
      "source": [
        "def count_occurrences(lst, elem):\n",
        "    count = 0  #initialize counter\n",
        "\n",
        "    for item in lst:\n",
        "        if isinstance(item, list):  #check if the item is a nested list\n",
        "            count += count_occurrences(item, elem)  #recursively count in the nested list\n",
        "        elif item == elem:\n",
        "            count += 1 #add counter  when item matches the element\n",
        "    return count\n",
        "\n",
        "lst = [[1, 2], [2, 3], [2, 4]]\n",
        "elem = 2\n",
        "occourance = count_occurrences(lst, elem)\n",
        "\n",
        "print(\"Original List:\",lst)\n",
        "print(\"Element:\",elem)\n",
        "print(\"Occourance:\",occourance)"
      ],
      "metadata": {
        "id": "v830xTQXs3CD",
        "colab": {
          "base_uri": "https://localhost:8080/"
        },
        "outputId": "6098766c-6b86-41dd-9732-4e47c72c09f2"
      },
      "execution_count": null,
      "outputs": [
        {
          "output_type": "stream",
          "name": "stdout",
          "text": [
            "Original List: [[1, 2], [2, 3], [2, 4]]\n",
            "Element: 2\n",
            "Occourance: 3\n"
          ]
        }
      ]
    },
    {
      "cell_type": "markdown",
      "source": [
        "7. Flatten a List of Lists of Lists:\n",
        "\n",
        "Write a Python function that flattens a list of lists of lists into a single list, regardless of the depth.\n",
        "\n",
        "• Requirements:\n",
        "\n",
        "– Define a function deep flatten(lst) that takes a deeply nested list lst and returns a single\n",
        "flattened list.\n",
        "\n",
        "– Example: For the input [[[1, 2], [3, 4]], [[5, 6], [7, 8]]], the output should be\n",
        "[1, 2, 3, 4, 5, 6, 7, 8]."
      ],
      "metadata": {
        "id": "XYrKMH0gs3Vb"
      }
    },
    {
      "cell_type": "code",
      "source": [
        "def deep_flatten(lst):\n",
        "    flattened_list = []  #initialize empty list\n",
        "\n",
        "    for item in lst:\n",
        "        if isinstance(item, list):\n",
        "            flattened_list.extend(deep_flatten(item))  #recursively flatten nested list\n",
        "        else:\n",
        "            flattened_list.append(item)  #append non-list elements\n",
        "\n",
        "    return flattened_list\n",
        "\n",
        "nested_list = [[[1, 2], [3, 4]], [[5, 6], [7, 8]]]\n",
        "flattened_list = deep_flatten(nested_list)\n",
        "\n",
        "print(\"Original Nested List:\",nested_list)\n",
        "print(\"Flattened List:\",flattened_list)"
      ],
      "metadata": {
        "id": "CvXnSglds7dZ",
        "colab": {
          "base_uri": "https://localhost:8080/"
        },
        "outputId": "1aa363dd-f5bc-428e-c5a0-cd762e72682c"
      },
      "execution_count": null,
      "outputs": [
        {
          "output_type": "stream",
          "name": "stdout",
          "text": [
            "Original Nested List: [[[1, 2], [3, 4]], [[5, 6], [7, 8]]]\n",
            "Flattened List: [1, 2, 3, 4, 5, 6, 7, 8]\n"
          ]
        }
      ]
    },
    {
      "cell_type": "markdown",
      "source": [
        "8. Nested List Average:\n",
        "\n",
        "Write a Python function that calculates the average of all elements in a nested list.\n",
        "\n",
        "• Requirements:\n",
        "\n",
        "– Define a function average nested(lst) that takes a nested list lst and returns the average\n",
        "of all the elements.\n",
        "\n",
        "– Example: For the input [[1, 2], [3, 4], [5, 6]], the output should be 3.5."
      ],
      "metadata": {
        "id": "BVAjCnbts7ys"
      }
    },
    {
      "cell_type": "code",
      "source": [
        "def average_nested(lst):\n",
        "    def flatten(lst):\n",
        "        #function to flatten the nested list\n",
        "        flattened_list = [] #initialize empty lisrt\n",
        "        for item in lst:\n",
        "            if isinstance(item, list):\n",
        "                flattened_list.extend(flatten(item))  #recursively flatten the list\n",
        "            else:\n",
        "                flattened_list.append(item)\n",
        "        return flattened_list\n",
        "\n",
        "    flat_list = flatten(lst)  #flatten the nested list\n",
        "    return sum(flat_list) / len(flat_list) if flat_list else 0  #calculate average element\n",
        "\n",
        "nested_list = [[1, 2], [3, 4], [5, 6]]\n",
        "average_element = average_nested(nested_list)\n",
        "\n",
        "print(\"Original Nested List:\",nested_list)\n",
        "print(\"Average Element:\",average_element)"
      ],
      "metadata": {
        "id": "MfqUSE_0s9uR",
        "colab": {
          "base_uri": "https://localhost:8080/"
        },
        "outputId": "17a7304c-6df2-4fc8-baaf-7b991d7e3c4e"
      },
      "execution_count": null,
      "outputs": [
        {
          "output_type": "stream",
          "name": "stdout",
          "text": [
            "Original Nested List: [[1, 2], [3, 4], [5, 6]]\n",
            "Average Element: 3.5\n"
          ]
        }
      ]
    },
    {
      "cell_type": "markdown",
      "source": [
        "# 4. Basic Vector and Matrix Operation with Numpy."
      ],
      "metadata": {
        "id": "cB7dEaruqys_"
      }
    },
    {
      "cell_type": "markdown",
      "source": [
        "## Problem - 1: Array Creation:\n",
        "\n",
        "1. Initialize an empty array with size 2X2.\n",
        "2. Initialize an all one array with size 4X2.\n",
        "3. Return a new array of given shape and type, filled with fill value.{Hint: np.full}\n",
        "4. Return a new array of zeros with same shape and type as a given array.{Hint: np.zeros like}\n",
        "5. Return a new array of ones with same shape and type as a given array.{Hint: np.ones like}\n",
        "6. For an existing list new_list = [1,2,3,4] convert to an numpy array.{Hint: np.array()}"
      ],
      "metadata": {
        "id": "ZzN0EUfUrAqc"
      }
    },
    {
      "cell_type": "code",
      "source": [
        "import numpy as np"
      ],
      "metadata": {
        "id": "eNz4jN6oYE_e"
      },
      "execution_count": null,
      "outputs": []
    },
    {
      "cell_type": "code",
      "source": [
        "# 1. Initialize an empty array with size 2X2\n",
        "empty_array = np.empty((2, 2))\n",
        "print(\"Empty Array (2x2):\\n\", empty_array)"
      ],
      "metadata": {
        "colab": {
          "base_uri": "https://localhost:8080/"
        },
        "id": "-HFHqEt7YHH8",
        "outputId": "a4126558-bd13-4266-dc38-89d6f8ca84ed"
      },
      "execution_count": null,
      "outputs": [
        {
          "output_type": "stream",
          "name": "stdout",
          "text": [
            "Empty Array (2x2):\n",
            " [[4.20188005e-316 0.00000000e+000]\n",
            " [2.22809558e-312 2.46151512e-312]]\n"
          ]
        }
      ]
    },
    {
      "cell_type": "code",
      "source": [
        "# 2. Initialize an all-one array with size 4X2\n",
        "ones_array = np.ones((4, 2))\n",
        "print(\"All Ones Array (4x2):\\n\", ones_array)"
      ],
      "metadata": {
        "colab": {
          "base_uri": "https://localhost:8080/"
        },
        "id": "pbtCGKHaYLPu",
        "outputId": "8408450c-b1cd-4ea0-a695-f411618e57d9"
      },
      "execution_count": null,
      "outputs": [
        {
          "output_type": "stream",
          "name": "stdout",
          "text": [
            "All Ones Array (4x2):\n",
            " [[1. 1.]\n",
            " [1. 1.]\n",
            " [1. 1.]\n",
            " [1. 1.]]\n"
          ]
        }
      ]
    },
    {
      "cell_type": "code",
      "source": [
        "# 3. Return a new array of given shape and type, filled with a specified fill value\n",
        "fill_value_array = np.full((3, 3), 2)\n",
        "print(\"Filled Array (3x3):\\n\", fill_value_array)"
      ],
      "metadata": {
        "colab": {
          "base_uri": "https://localhost:8080/"
        },
        "id": "W6H7-rKXYPnb",
        "outputId": "65dd3037-d54e-4077-8bbe-b5792e38c59d"
      },
      "execution_count": null,
      "outputs": [
        {
          "output_type": "stream",
          "name": "stdout",
          "text": [
            "Filled Array (3x3):\n",
            " [[2 2 2]\n",
            " [2 2 2]\n",
            " [2 2 2]]\n"
          ]
        }
      ]
    },
    {
      "cell_type": "code",
      "source": [
        "# 4. Return a new array of zeros with the same shape and type as a given array\n",
        "array = np.array([[1, 2, 3], [4, 5, 6]])\n",
        "zero_array = np.zeros_like(array)\n",
        "print(\"Original Array:\\n\", array)\n",
        "print(\"Array of Zeros:\\n\", zero_array)"
      ],
      "metadata": {
        "colab": {
          "base_uri": "https://localhost:8080/"
        },
        "id": "D_k4Q5X1YSBE",
        "outputId": "a3cc6c34-6d02-46cd-d203-62e8c7a5622d"
      },
      "execution_count": null,
      "outputs": [
        {
          "output_type": "stream",
          "name": "stdout",
          "text": [
            "Original Array:\n",
            " [[1 2 3]\n",
            " [4 5 6]]\n",
            "Array of Zeros:\n",
            " [[0 0 0]\n",
            " [0 0 0]]\n"
          ]
        }
      ]
    },
    {
      "cell_type": "code",
      "source": [
        "# 5. Return a new array of ones with the same shape and type as a given array\n",
        "ones_array = np.ones_like(array)\n",
        "print(\"Original Array:\\n\", array)\n",
        "print(\"Array of Ones:\\n\", ones_array)"
      ],
      "metadata": {
        "colab": {
          "base_uri": "https://localhost:8080/"
        },
        "id": "29AYC-zlYT0b",
        "outputId": "6b2d0f65-48ae-4ec9-bd57-2e8c0e5565c6"
      },
      "execution_count": null,
      "outputs": [
        {
          "output_type": "stream",
          "name": "stdout",
          "text": [
            "Original Array:\n",
            " [[1 2 3]\n",
            " [4 5 6]]\n",
            "Array of Ones:\n",
            " [[1 1 1]\n",
            " [1 1 1]]\n"
          ]
        }
      ]
    },
    {
      "cell_type": "code",
      "source": [
        "# 6. Convert an existing list to a NumPy array\n",
        "new_list = [1, 2, 3, 4]\n",
        "numpy_array = np.array(new_list)\n",
        "print(\"Converted NumPy Array:\\n\", numpy_array)"
      ],
      "metadata": {
        "id": "nkFo7GlfrHH8",
        "colab": {
          "base_uri": "https://localhost:8080/"
        },
        "outputId": "20b3cda3-1d0b-4fdd-9969-44d70dd30535"
      },
      "execution_count": null,
      "outputs": [
        {
          "output_type": "stream",
          "name": "stdout",
          "text": [
            "Converted NumPy Array:\n",
            " [1 2 3 4]\n"
          ]
        }
      ]
    },
    {
      "cell_type": "markdown",
      "source": [
        "## Problem - 2: Array Manipulation: Numerical Ranges and Array indexing:\n",
        "\n",
        "1. Create an array with values ranging from 10 to 49. {Hint:np.arrange()}.\n",
        "2. Create a 3X3 matrix with values ranging from 0 to 8.\n",
        "{Hint:look for np.reshape()}\n",
        "3. Create a 3X3 identity matrix.{Hint:np.eye()}\n",
        "4. Create a random array of size 30 and find the mean of the array.\n",
        "{Hint:check for np.random.random() and array.mean() function}\n",
        "5. Create a 10X10 array with random values and find the minimum and maximum values.\n",
        "6. Create a zero array of size 10 and replace 5th element with 1.\n",
        "7. Reverse an array arr = [1,2,0,0,4,0].\n",
        "8. Create a 2d array with 1 on border and 0 inside.\n",
        "9. Create a 8X8 matrix and fill it with a checkerboard pattern."
      ],
      "metadata": {
        "id": "ToY1MqlGrHdC"
      }
    },
    {
      "cell_type": "code",
      "source": [
        "# 1. Create an array with values ranging from 10 to 49\n",
        "array = np.arange(10, 50)\n",
        "print(\"Array 10-49: \")\n",
        "print(array)"
      ],
      "metadata": {
        "id": "3x3sTaEKrLh-",
        "colab": {
          "base_uri": "https://localhost:8080/"
        },
        "outputId": "c7f6775f-54b2-458d-a6fa-633b4fae6050"
      },
      "execution_count": 39,
      "outputs": [
        {
          "output_type": "stream",
          "name": "stdout",
          "text": [
            "Array 10-49: \n",
            "[10 11 12 13 14 15 16 17 18 19 20 21 22 23 24 25 26 27 28 29 30 31 32 33\n",
            " 34 35 36 37 38 39 40 41 42 43 44 45 46 47 48 49]\n"
          ]
        }
      ]
    },
    {
      "cell_type": "code",
      "source": [
        "# 2. Create a 3X3 matrix with values ranging from 0 to 8\n",
        "matrix = np.arange(9).reshape(3, 3)\n",
        "print(\"3x3 Matrix:\")\n",
        "print(matrix)"
      ],
      "metadata": {
        "colab": {
          "base_uri": "https://localhost:8080/"
        },
        "id": "JJcb5Xrv6A2u",
        "outputId": "1e92eeac-fde8-4902-b36f-40328958a55e"
      },
      "execution_count": 40,
      "outputs": [
        {
          "output_type": "stream",
          "name": "stdout",
          "text": [
            "3x3 Matrix:\n",
            "[[0 1 2]\n",
            " [3 4 5]\n",
            " [6 7 8]]\n"
          ]
        }
      ]
    },
    {
      "cell_type": "code",
      "source": [
        "# 3. Create a 3X3 identity matrix\n",
        "identity_matrix = np.eye(3)\n",
        "print(\"3x3 Identity Matrix:\")\n",
        "print(identity_matrix)"
      ],
      "metadata": {
        "colab": {
          "base_uri": "https://localhost:8080/"
        },
        "id": "6bAZNzLI6CWO",
        "outputId": "110fe34d-1803-4fb2-d4b5-4db5bb1b7808"
      },
      "execution_count": 41,
      "outputs": [
        {
          "output_type": "stream",
          "name": "stdout",
          "text": [
            "3x3 Identity Matrix:\n",
            "[[1. 0. 0.]\n",
            " [0. 1. 0.]\n",
            " [0. 0. 1.]]\n"
          ]
        }
      ]
    },
    {
      "cell_type": "code",
      "source": [
        "# 4. Create a random array of size 30 and find the mean of the array\n",
        "random_array = np.random.random(30)\n",
        "mean_value = random_array.mean()\n",
        "print(\"Random Array:\")\n",
        "print(random_array)\n",
        "print(\"Mean of the Array:\", mean_value)"
      ],
      "metadata": {
        "colab": {
          "base_uri": "https://localhost:8080/"
        },
        "id": "3ca1DyHZ6D_L",
        "outputId": "dbfcad05-ac51-49dc-f1d9-266a94f77ed4"
      },
      "execution_count": 42,
      "outputs": [
        {
          "output_type": "stream",
          "name": "stdout",
          "text": [
            "Random Array:\n",
            "[0.9638975  0.64619352 0.51631565 0.12489203 0.95150326 0.08935293\n",
            " 0.70611803 0.93573656 0.38051917 0.06210225 0.95663513 0.20836389\n",
            " 0.71941082 0.45756753 0.69294181 0.10221482 0.61897176 0.98943371\n",
            " 0.14071428 0.56835323 0.07850192 0.78087768 0.91494664 0.72662314\n",
            " 0.43891308 0.81914446 0.56884772 0.44489232 0.60804673 0.39434164]\n",
            "Mean of the Array: 0.5535457738651612\n"
          ]
        }
      ]
    },
    {
      "cell_type": "code",
      "source": [
        "# 5. Create a 10X10 array with random values and find the minimum and maximum values\n",
        "random_array = np.random.random((10, 10))\n",
        "min_value = random_array.min()\n",
        "max_value = random_array.max()\n",
        "print(random_array)\n",
        "print(f\"Minimum value: {min_value}, Maximum value: {max_value}\")"
      ],
      "metadata": {
        "colab": {
          "base_uri": "https://localhost:8080/"
        },
        "id": "lzd-LlGN6GpL",
        "outputId": "3c90053f-6648-4a78-ce8a-c4e9077fc8e8"
      },
      "execution_count": 43,
      "outputs": [
        {
          "output_type": "stream",
          "name": "stdout",
          "text": [
            "[[5.59574030e-01 3.28254103e-01 4.41234097e-01 2.71519045e-01\n",
            "  8.81927708e-01 1.49317995e-01 9.53900559e-01 5.00041810e-01\n",
            "  3.12921882e-01 9.74984980e-01]\n",
            " [7.91166505e-01 7.97049079e-01 3.91271690e-01 1.13843676e-01\n",
            "  8.37567802e-01 3.31004178e-01 4.46192675e-01 5.39954798e-02\n",
            "  1.15025832e-01 2.65372209e-01]\n",
            " [2.56388485e-01 6.75872811e-01 9.10710109e-01 6.32260325e-01\n",
            "  3.48695012e-01 8.97308970e-01 8.88508233e-01 1.53046569e-01\n",
            "  7.06350582e-01 8.86830349e-01]\n",
            " [5.17644111e-04 2.52719353e-01 2.41537206e-01 7.76967663e-02\n",
            "  2.81379891e-01 6.93929238e-01 5.23787207e-01 3.39079616e-01\n",
            "  4.10898137e-01 5.16488784e-01]\n",
            " [9.58018839e-01 2.48174528e-01 4.08564921e-01 3.72289716e-01\n",
            "  1.98329245e-02 4.99533235e-01 9.72882210e-02 8.68338233e-01\n",
            "  1.39091349e-01 6.75907472e-01]\n",
            " [8.89240936e-01 4.25206749e-01 2.24814463e-01 3.98811472e-02\n",
            "  9.29584706e-01 1.48737371e-01 8.71115159e-01 7.98386675e-01\n",
            "  5.45203356e-01 8.56423791e-03]\n",
            " [1.11324265e-01 8.44740178e-01 5.59366999e-01 7.77198696e-01\n",
            "  2.96000568e-01 6.82585257e-01 8.75844993e-01 9.51113235e-01\n",
            "  7.06640988e-01 3.68253230e-01]\n",
            " [8.26769870e-01 9.92633535e-01 7.33427311e-01 4.48434845e-02\n",
            "  1.59319415e-01 7.51240372e-01 9.56434701e-01 7.47533836e-01\n",
            "  4.19092599e-01 1.59702068e-01]\n",
            " [5.81057252e-01 6.16450203e-01 8.02051181e-01 4.93447570e-01\n",
            "  4.93154518e-01 9.62522198e-01 1.41678613e-02 9.24269876e-01\n",
            "  6.36439720e-01 1.84276566e-01]\n",
            " [6.92256704e-02 8.39374424e-01 8.68438638e-01 5.99188297e-01\n",
            "  8.27301624e-01 8.16934499e-01 3.55748810e-01 6.50991931e-02\n",
            "  4.95760526e-01 8.82396467e-01]]\n",
            "Minimum value: 0.0005176441109256968, Maximum value: 0.9926335350199039\n"
          ]
        }
      ]
    },
    {
      "cell_type": "code",
      "source": [
        "# 6. Create a zero array of size 10 and replace 5th element with 1\n",
        "zero_array = np.zeros(10)\n",
        "zero_array[4] = 1\n",
        "print(zero_array)"
      ],
      "metadata": {
        "colab": {
          "base_uri": "https://localhost:8080/"
        },
        "id": "kp1k12wt6InL",
        "outputId": "1d30cc87-cd6c-4665-a51a-9d9eadfc2114"
      },
      "execution_count": 44,
      "outputs": [
        {
          "output_type": "stream",
          "name": "stdout",
          "text": [
            "[0. 0. 0. 0. 1. 0. 0. 0. 0. 0.]\n"
          ]
        }
      ]
    },
    {
      "cell_type": "code",
      "source": [
        "# 7. Reverse an array arr = [1, 2, 0, 0, 4, 0]\n",
        "arr = np.array([1, 2, 0, 0, 4, 0])\n",
        "reversed_arr = arr[::-1]\n",
        "print(reversed_arr)"
      ],
      "metadata": {
        "colab": {
          "base_uri": "https://localhost:8080/"
        },
        "id": "kGiOmhDE6KIw",
        "outputId": "76425d4c-0cf7-45f5-b261-a4f72e728fb5"
      },
      "execution_count": 45,
      "outputs": [
        {
          "output_type": "stream",
          "name": "stdout",
          "text": [
            "[0 4 0 0 2 1]\n"
          ]
        }
      ]
    },
    {
      "cell_type": "code",
      "source": [
        "# 8. Create a 2d array with 1 on border and 0 inside\n",
        "array = np.ones((5, 5))\n",
        "array[1:-1, 1:-1] = 0\n",
        "print(array)\n"
      ],
      "metadata": {
        "colab": {
          "base_uri": "https://localhost:8080/"
        },
        "id": "pfp9kPpD6LVK",
        "outputId": "046aaede-c7ad-42b4-f9d0-c0604f0fa8df"
      },
      "execution_count": 46,
      "outputs": [
        {
          "output_type": "stream",
          "name": "stdout",
          "text": [
            "[[1. 1. 1. 1. 1.]\n",
            " [1. 0. 0. 0. 1.]\n",
            " [1. 0. 0. 0. 1.]\n",
            " [1. 0. 0. 0. 1.]\n",
            " [1. 1. 1. 1. 1.]]\n"
          ]
        }
      ]
    },
    {
      "cell_type": "code",
      "source": [
        "# 9. Create an 8X8 matrix and fill it with a checkerboard pattern\n",
        "checkerboard = np.zeros((8, 8), dtype=int)\n",
        "checkerboard[1::2, ::2] = 1\n",
        "checkerboard[::2, 1::2] = 1\n",
        "print(\"Checkerboard pattern:\")\n",
        "print(checkerboard)"
      ],
      "metadata": {
        "colab": {
          "base_uri": "https://localhost:8080/"
        },
        "id": "dAg7GI596MxP",
        "outputId": "e67e375b-21b3-41b1-b607-45f5591b4dbc"
      },
      "execution_count": 47,
      "outputs": [
        {
          "output_type": "stream",
          "name": "stdout",
          "text": [
            "Checkerboard pattern:\n",
            "[[0 1 0 1 0 1 0 1]\n",
            " [1 0 1 0 1 0 1 0]\n",
            " [0 1 0 1 0 1 0 1]\n",
            " [1 0 1 0 1 0 1 0]\n",
            " [0 1 0 1 0 1 0 1]\n",
            " [1 0 1 0 1 0 1 0]\n",
            " [0 1 0 1 0 1 0 1]\n",
            " [1 0 1 0 1 0 1 0]]\n"
          ]
        }
      ]
    },
    {
      "cell_type": "markdown",
      "source": [
        "## Problem - 3: Array Operations:\n",
        "\n",
        "For the following arrays:\n",
        "x = np.array([[1,2],[3,5]]) and y = np.array([[5,6],[7,8]]);\n",
        "v = np.array([9,10]) and w = np.array([11,12]);\n",
        "\n",
        "Complete all the task using numpy:\n",
        "1. Add the two array.\n",
        "2. Subtract the two array.\n",
        "3. Multiply the array with any integers of your choice.\n",
        "4. Find the square of each element of the array.\n",
        "5. Find the dot product between: v(and)w ; x(and)v ; x(and)y.\n",
        "6. Concatenate x(and)y along row and Concatenate v(and)w along column.\n",
        "{Hint:try np.concatenate() or np.vstack() functions.\n",
        "7. Concatenate x(and)v; if you get an error, observe and explain why did you get the error?"
      ],
      "metadata": {
        "id": "o8Qu1QdzrLzt"
      }
    },
    {
      "cell_type": "code",
      "source": [
        "x = np.array([[1, 2], [3, 5]])\n",
        "y = np.array([[5, 6], [7, 8]])\n",
        "v = np.array([9, 10])\n",
        "w = np.array([11, 12])\n",
        "\n",
        "#Add the two array.\n",
        "add_result = x + y\n",
        "print(\"Addition of x and y:\")\n",
        "print(add_result)\n",
        "\n",
        "# 2. Subtract the two arrays\n",
        "subtract_result = x - y\n",
        "print(\"\\nSubtraction of x and y:\")\n",
        "print(subtract_result)\n",
        "\n",
        "# 3. Multiply the array with any integers of your choice (e.g., multiply x by 2)\n",
        "multiply_result = x * 2\n",
        "print(\"\\nMultiplication of x by 2:\")\n",
        "print(multiply_result)\n",
        "\n",
        "# 4. Find the square of each element of the array\n",
        "square_res = np.square(x)\n",
        "print(\"\\nSquare of each element in x:\")\n",
        "print(square_res)\n",
        "\n",
        "# 5. Find the dot product between v and w:\n",
        "dot_vw = np.dot(v,w)\n",
        "print(\"\\nDot product of v and w:\")\n",
        "print(dot_vw)\n",
        "\n",
        "dot_xv = np.dot(x,v)\n",
        "print(\"\\nDot product of x and v:\")\n",
        "print(dot_xv)\n",
        "\n",
        "dot_xy = np.dot(x,y)\n",
        "print(\"\\nDot product of x and y:\")\n",
        "print(dot_xy)\n",
        "\n",
        "# Concatenate x(and)y along row and Concatenate v(and)w along column.\n",
        "conc_xy = np.concatenate((x,y), axis=0)\n",
        "print(\"\\nConcatenation of x and y along rows:\")\n",
        "print(conc_xy)\n",
        "\n",
        "conc_vw = np.concatenate((v.reshape(-1,1),w.reshape(-1,1)), axis=1)\n",
        "print(\"\\nConcatenation of v and w along column:\")\n",
        "print(conc_vw)\n",
        "\n",
        "# 7. Concatenate x and v; if you get an error, observe and explain why you got the error?\n",
        "try:\n",
        "  concat_xv = np.concatenate((x,v), axis=0)\n",
        "  print(\"\\n COncatenate x and v along row: \")\n",
        "  print(concat_xv)\n",
        "except ValueError as e:\n",
        "  print(f\"Error: {e}\")"
      ],
      "metadata": {
        "id": "P_NDVGGdrTaq",
        "colab": {
          "base_uri": "https://localhost:8080/"
        },
        "outputId": "33685e93-4efa-4d7a-a678-16b805e06605"
      },
      "execution_count": 38,
      "outputs": [
        {
          "output_type": "stream",
          "name": "stdout",
          "text": [
            "Addition of x and y:\n",
            "[[ 6  8]\n",
            " [10 13]]\n",
            "\n",
            "Subtraction of x and y:\n",
            "[[-4 -4]\n",
            " [-4 -3]]\n",
            "\n",
            "Multiplication of x by 2:\n",
            "[[ 2  4]\n",
            " [ 6 10]]\n",
            "\n",
            "Square of each element in x:\n",
            "[[ 1  4]\n",
            " [ 9 25]]\n",
            "\n",
            "Dot product of v and w:\n",
            "219\n",
            "\n",
            "Dot product of x and v:\n",
            "[29 77]\n",
            "\n",
            "Dot product of x and y:\n",
            "[[19 22]\n",
            " [50 58]]\n",
            "\n",
            "Concatenation of x and y along rows:\n",
            "[[1 2]\n",
            " [3 5]\n",
            " [5 6]\n",
            " [7 8]]\n",
            "\n",
            "Concatenation of v and w along column:\n",
            "[[ 9 11]\n",
            " [10 12]]\n",
            "Error: all the input arrays must have same number of dimensions, but the array at index 0 has 2 dimension(s) and the array at index 1 has 1 dimension(s)\n"
          ]
        }
      ]
    },
    {
      "cell_type": "markdown",
      "source": [
        "## Problem - 4: Matrix Operations:\n",
        "\n",
        "• For the following arrays:\n",
        "A = np.array([[3,4],[7,8]]) and B = np.array([[5,3],[2,1]]);\n",
        "Prove following with Numpy:\n",
        "1. Prove A.A−1 = I.\n",
        "2. Prove AB ̸= BA.\n",
        "3. Prove (AB)\n",
        "\n",
        "T = BTAT\n",
        "\n",
        "• Solve the following system of Linear equation using Inverse Methods.\n",
        "\n",
        "2x − 3y + z = −1\n",
        "x − y + 2z = −3\n",
        "3x + y − z = 9\n",
        "\n",
        "{Hint: First use Numpy array to represent the equation in Matrix form. Then Solve for: AX = B}\n",
        "\n",
        "• Now: solve the above equation using np.linalg.inv function.{Explore more about ”linalg” func-\n",
        "tion of Numpy}"
      ],
      "metadata": {
        "id": "XRGc83mmrTsn"
      }
    },
    {
      "cell_type": "code",
      "source": [
        "A = np.array([[3, 4], [7, 8]])\n",
        "B = np.array([[5, 3], [2, 1]])\n",
        "\n",
        "# 1. Prove A.A−1 = I\n",
        "A_inv = np.linalg.inv(A)\n",
        "I = np.dot(A, A_inv)\n",
        "print(\"I:\")\n",
        "print(I)\n",
        "\n",
        "# 2. Prove AB != BA\n",
        "AB = np.dot(A, B)\n",
        "BA = np.dot(B, A)\n",
        "print(\"\\nAB:\")\n",
        "print(AB)\n",
        "print(\"\\nBA:\")\n",
        "print(BA)\n",
        "\n",
        "# 3. Prove (AB)^T = B^T * A^T\n",
        "AB_transpose = np.dot(A, B).T\n",
        "B_transpose = B.T\n",
        "A_transpose = A.T\n",
        "B_transpose_A_transpose = np.dot(B_transpose, A_transpose)\n",
        "print(\"\\n(AB)^T:\")\n",
        "print(AB_transpose)\n",
        "print(\"\\nB^T * A^T: \")\n",
        "print(B_transpose_A_transpose)\n",
        "\n",
        "\n",
        "# Solving the system of linear equations using Inverse Method\n",
        "# Given system of equations:\n",
        "# 2x - 3y + z = -1\n",
        "# x - y + 2z = -3\n",
        "# 3x + y - z = 9\n",
        "\n",
        "# Represent the system in matrix form: AX = B\n",
        "A_eq = np.array([[2,-3,1], [1,-1,2], [3,1,-1]])\n",
        "B_eq = np.array([-1,-3,9])\n",
        "\n",
        "#A (A^-1)\n",
        "X = np.dot(np.linalg.inv(A_eq), B_eq)\n",
        "print(\"\\nSolution for x, y,z: \")\n",
        "print(X)\n",
        "\n"
      ],
      "metadata": {
        "id": "goUJymb4rasR",
        "colab": {
          "base_uri": "https://localhost:8080/"
        },
        "outputId": "c9023493-b7fb-4567-e1c1-c63e5fd1c01d"
      },
      "execution_count": 48,
      "outputs": [
        {
          "output_type": "stream",
          "name": "stdout",
          "text": [
            "I:\n",
            "[[1.00000000e+00 0.00000000e+00]\n",
            " [1.77635684e-15 1.00000000e+00]]\n",
            "\n",
            "AB:\n",
            "[[23 13]\n",
            " [51 29]]\n",
            "\n",
            "BA:\n",
            "[[36 44]\n",
            " [13 16]]\n",
            "\n",
            "(AB)^T:\n",
            "[[23 51]\n",
            " [13 29]]\n",
            "\n",
            "B^T * A^T: \n",
            "[[23 51]\n",
            " [13 29]]\n",
            "\n",
            "Solution for x, y,z: \n",
            "[ 2.  1. -2.]\n"
          ]
        }
      ]
    }
  ]
}